{
 "cells": [
  {
   "cell_type": "markdown",
   "metadata": {},
   "source": [
    "# Installing the corpus access library"
   ]
  },
  {
   "cell_type": "code",
   "execution_count": 2,
   "metadata": {},
   "outputs": [
    {
     "name": "stdout",
     "output_type": "stream",
     "text": [
      "Collecting webnlg_corpus==0.1.dev10\n",
      "  Downloading https://files.pythonhosted.org/packages/ce/95/7c1d49a31be847e93cb39115c7447c9c9f24188a2e4c1aa3285de087862f/webnlg_corpus-0.1.dev10-py3-none-any.whl\n",
      "Requirement already satisfied: tinydb in c:\\programdata\\anaconda3\\envs\\webnlg\\lib\\site-packages (from webnlg_corpus==0.1.dev10) (3.13.0)\n",
      "Requirement already satisfied: pandas in c:\\programdata\\anaconda3\\envs\\webnlg\\lib\\site-packages (from webnlg_corpus==0.1.dev10) (0.24.2)\n",
      "Requirement already satisfied: numpy>=1.12.0 in c:\\programdata\\anaconda3\\envs\\webnlg\\lib\\site-packages (from pandas->webnlg_corpus==0.1.dev10) (1.16.2)\n",
      "Requirement already satisfied: pytz>=2011k in c:\\programdata\\anaconda3\\envs\\webnlg\\lib\\site-packages (from pandas->webnlg_corpus==0.1.dev10) (2018.9)\n",
      "Requirement already satisfied: python-dateutil>=2.5.0 in c:\\programdata\\anaconda3\\envs\\webnlg\\lib\\site-packages (from pandas->webnlg_corpus==0.1.dev10) (2.8.0)\n",
      "Requirement already satisfied: six>=1.5 in c:\\users\\1513 mx5_7\\appdata\\roaming\\python\\python37\\site-packages (from python-dateutil>=2.5.0->pandas->webnlg_corpus==0.1.dev10) (1.12.0)\n",
      "Installing collected packages: webnlg-corpus\n",
      "Successfully installed webnlg-corpus-0.1.dev10\n"
     ]
    }
   ],
   "source": [
    "!pip install webnlg_corpus==0.1.dev10"
   ]
  },
  {
   "cell_type": "code",
   "execution_count": 3,
   "metadata": {},
   "outputs": [
    {
     "name": "stdout",
     "output_type": "stream",
     "text": [
      "Name: webnlg-corpus\n",
      "Version: 0.1.dev10\n",
      "Summary: WebNLG Corpus\n",
      "Home-page: https://github.com/abevieiramota/webnlg_corpus\n",
      "Author: Abelardo Vieira Mota\n",
      "Author-email: abevieiramota@gmail.com\n",
      "License: CC BY-NC-SA 4.0\n",
      "Location: c:\\programdata\\anaconda3\\envs\\webnlg\\lib\\site-packages\n",
      "Requires: pandas, tinydb\n",
      "Required-by: \n"
     ]
    }
   ],
   "source": [
    "!pip show webnlg_corpus"
   ]
  },
  {
   "cell_type": "markdown",
   "metadata": {},
   "source": [
    "# Downloading one corpus release"
   ]
  },
  {
   "cell_type": "markdown",
   "metadata": {},
   "source": [
    "### Currently available releases"
   ]
  },
  {
   "cell_type": "code",
   "execution_count": 4,
   "metadata": {},
   "outputs": [
    {
     "data": {
      "text/plain": [
       "dict_keys(['webnlg_challenge_2017', 'release_v2', 'release_v2_constrained'])"
      ]
     },
     "execution_count": 4,
     "metadata": {},
     "output_type": "execute_result"
    }
   ],
   "source": [
    "from webnlg_corpus import config\n",
    "\n",
    "config.RELEASES_URLS.keys()"
   ]
  },
  {
   "cell_type": "markdown",
   "metadata": {},
   "source": [
    "### Downloading the one used in the competition"
   ]
  },
  {
   "cell_type": "code",
   "execution_count": 5,
   "metadata": {},
   "outputs": [],
   "source": [
    "from webnlg_corpus import downloader\n",
    "\n",
    "# force=True overrides previous release download\n",
    "downloader.download('webnlg_challenge_2017', force=True)"
   ]
  },
  {
   "cell_type": "code",
   "execution_count": 6,
   "metadata": {},
   "outputs": [
    {
     "data": {
      "text/plain": [
       "'C:\\\\Users\\\\1513 MX5_7\\\\AppData\\\\Roaming\\\\webnlg_data'"
      ]
     },
     "execution_count": 6,
     "metadata": {},
     "output_type": "execute_result"
    }
   ],
   "source": [
    "downloader.default_download_dir()"
   ]
  },
  {
   "cell_type": "markdown",
   "metadata": {},
   "source": [
    "# Explaining the corpus"
   ]
  },
  {
   "cell_type": "markdown",
   "metadata": {},
   "source": [
    "### Reading one release"
   ]
  },
  {
   "cell_type": "code",
   "execution_count": 7,
   "metadata": {},
   "outputs": [],
   "source": [
    "from webnlg_corpus import webnlg\n",
    "\n",
    "corpus = webnlg.load('webnlg_challenge_2017')"
   ]
  },
  {
   "cell_type": "markdown",
   "metadata": {},
   "source": [
    "### Looking at some examples"
   ]
  },
  {
   "cell_type": "markdown",
   "metadata": {},
   "source": [
    "You can select a sample of a dataset with the method `.sample`"
   ]
  },
  {
   "cell_type": "code",
   "execution_count": 8,
   "metadata": {},
   "outputs": [
    {
     "data": {
      "text/plain": [
       "Triple info: Category=Food eid=Id151 idx=train_Food_1_Id151\n",
       "\n",
       "\tModified Triples:\n",
       "\n",
       "Bhajji | related | Pakora\n",
       "\n",
       "\n",
       "\tLexicalizations:\n",
       "\n",
       "The dish bhajji is related to pakora.\n",
       "\n",
       "\n",
       "Bhajji is a snack that is similar to Pakora.\n",
       "\n",
       "\n",
       "bhajji and pakora are related.\n"
      ]
     },
     "execution_count": 8,
     "metadata": {},
     "output_type": "execute_result"
    }
   ],
   "source": [
    "corpus.sample(seed=1, datasets=['train'])"
   ]
  },
  {
   "cell_type": "markdown",
   "metadata": {},
   "source": [
    "### Understanding an entry\n",
    "\n",
    "An entry in a WebNLG releases contains the following informations:\n",
    "\n",
    "* **Modified Triples**: contains the entry input data, a set of lexicalized triples that should be verbalized. They are an modification of the triples extracted from DBpedia. More about in: http://webnlg.loria.fr/pages/docs.html \n",
    "\n",
    "* **Category**: the main topic of the entry input data(Modified Triples)\n",
    "\n",
    "* **Lexicalizations**: contains the entry reference texts\n",
    "\n",
    "* **eid**: is an entry identifier in the .XML file where it is contained\n",
    "\n",
    "* **idx**: is an entry identifier in the release. It's structure is: {dataset}_{category}_{number of triples}_{eid}"
   ]
  },
  {
   "cell_type": "markdown",
   "metadata": {},
   "source": [
    "There are entries with a number of triples going from 1 to 7"
   ]
  },
  {
   "cell_type": "code",
   "execution_count": 9,
   "metadata": {},
   "outputs": [
    {
     "data": {
      "text/plain": [
       "Triple info: Category=Astronaut eid=Id35 idx=train_Astronaut_7_Id35\n",
       "\n",
       "\tModified Triples:\n",
       "\n",
       "Apollo_12 | backup pilot | Alfred_Worden\n",
       "Alan_Bean | was a crew member of | Apollo_12\n",
       "Apollo_12 | operator | NASA\n",
       "Apollo_12 | commander | David_Scott\n",
       "Alan_Bean | birthPlace | Wheeler,_Texas\n",
       "Alan_Bean | status | \"Retired\"\n",
       "Alan_Bean | almaMater | \"UT Austin, B.S. 1955\"\n",
       "\n",
       "\n",
       "\tLexicalizations:\n",
       "\n",
       "Alan Bean was born in Wheeler, Texas and graduated from UT Austin in 1955 with a B.S. He was a crew member of the NASA operated Apollo 12. He is now retired. The back up pilot of Apollo 12 was Alfred Worden, and the commander was David Scott.\n",
       "\n",
       "\n",
       "Alan Bean, who has now retired, was born in Wheeler Texas and graduated from UT Austin in 1955 with a Bachelor of Science degree. He was a member of the NASA operated Apollo 12 along with commander David Scott and backup pilot Alfred Worden.\n"
      ]
     },
     "execution_count": 9,
     "metadata": {},
     "output_type": "execute_result"
    }
   ],
   "source": [
    "corpus.sample(seed=1, ntriples=[7], datasets=['train'])"
   ]
  },
  {
   "cell_type": "markdown",
   "metadata": {},
   "source": [
    "### Calculating some corpus' statistics"
   ]
  },
  {
   "cell_type": "code",
   "execution_count": 10,
   "metadata": {},
   "outputs": [],
   "source": [
    "import pandas as pd\n",
    "\n",
    "train_dev = corpus.subset(datasets=['train', 'dev'])\n",
    "test = corpus.subset(datasets=['test'])"
   ]
  },
  {
   "cell_type": "code",
   "execution_count": 11,
   "metadata": {},
   "outputs": [
    {
     "data": {
      "text/plain": [
       "{'train_dev': 2131, 'test': 2331}"
      ]
     },
     "execution_count": 11,
     "metadata": {},
     "output_type": "execute_result"
    }
   ],
   "source": [
    "# number of unique triples\n",
    "\n",
    "{\n",
    "    'train_dev': train_dev.as_pandas.mdf.text.nunique(),\n",
    "    'test': test.as_pandas.mdf.text.nunique()\n",
    "}"
   ]
  },
  {
   "cell_type": "code",
   "execution_count": 12,
   "metadata": {},
   "outputs": [
    {
     "data": {
      "text/plain": [
       "{'train_dev': 20370, 'test': 7361}"
      ]
     },
     "execution_count": 12,
     "metadata": {},
     "output_type": "execute_result"
    }
   ],
   "source": [
    "# number of lexicalizations\n",
    "\n",
    "{\n",
    "    'train_dev': len(train_dev.as_pandas.ldf),\n",
    "    'test': len(test.as_pandas.ldf)\n",
    "}"
   ]
  },
  {
   "cell_type": "code",
   "execution_count": 13,
   "metadata": {},
   "outputs": [
    {
     "data": {
      "text/plain": [
       "{'train_dev': 246, 'test': 300}"
      ]
     },
     "execution_count": 13,
     "metadata": {},
     "output_type": "execute_result"
    }
   ],
   "source": [
    "# number of unique properties\n",
    "\n",
    "{\n",
    "    'train_dev': train_dev.as_pandas.mdf.predicate.nunique(),\n",
    "    'test': test.as_pandas.mdf.predicate.nunique()\n",
    "}"
   ]
  },
  {
   "cell_type": "code",
   "execution_count": 14,
   "metadata": {},
   "outputs": [
    {
     "data": {
      "text/plain": [
       "{'train_dev': 434, 'test': 575}"
      ]
     },
     "execution_count": 14,
     "metadata": {},
     "output_type": "execute_result"
    }
   ],
   "source": [
    "# number of unique subjects\n",
    "\n",
    "{\n",
    "    'train_dev': train_dev.as_pandas.mdf.subject.nunique(),\n",
    "    'test': test.as_pandas.mdf.subject.nunique()\n",
    "}"
   ]
  },
  {
   "cell_type": "code",
   "execution_count": 15,
   "metadata": {},
   "outputs": [
    {
     "data": {
      "text/plain": [
       "{'train_dev': 1642, 'test': 1888}"
      ]
     },
     "execution_count": 15,
     "metadata": {},
     "output_type": "execute_result"
    }
   ],
   "source": [
    "# distribution of above per category\n",
    "\n",
    "{\n",
    "    'train_dev': train_dev.as_pandas.mdf.object.nunique(),\n",
    "    'test': test.as_pandas.mdf.object.nunique()\n",
    "}"
   ]
  },
  {
   "cell_type": "markdown",
   "metadata": {},
   "source": [
    "### per category"
   ]
  },
  {
   "cell_type": "code",
   "execution_count": 16,
   "metadata": {},
   "outputs": [
    {
     "data": {
      "text/html": [
       "<div>\n",
       "<style scoped>\n",
       "    .dataframe tbody tr th:only-of-type {\n",
       "        vertical-align: middle;\n",
       "    }\n",
       "\n",
       "    .dataframe tbody tr th {\n",
       "        vertical-align: top;\n",
       "    }\n",
       "\n",
       "    .dataframe thead th {\n",
       "        text-align: right;\n",
       "    }\n",
       "</style>\n",
       "<table border=\"1\" class=\"dataframe\">\n",
       "  <thead>\n",
       "    <tr style=\"text-align: right;\">\n",
       "      <th></th>\n",
       "      <th>test</th>\n",
       "      <th>train_dev</th>\n",
       "    </tr>\n",
       "  </thead>\n",
       "  <tbody>\n",
       "    <tr>\n",
       "      <th>Airport</th>\n",
       "      <td>196</td>\n",
       "      <td>376.0</td>\n",
       "    </tr>\n",
       "    <tr>\n",
       "      <th>Artist</th>\n",
       "      <td>252</td>\n",
       "      <td>0.0</td>\n",
       "    </tr>\n",
       "    <tr>\n",
       "      <th>Astronaut</th>\n",
       "      <td>71</td>\n",
       "      <td>90.0</td>\n",
       "    </tr>\n",
       "    <tr>\n",
       "      <th>Athlete</th>\n",
       "      <td>199</td>\n",
       "      <td>0.0</td>\n",
       "    </tr>\n",
       "    <tr>\n",
       "      <th>Building</th>\n",
       "      <td>190</td>\n",
       "      <td>295.0</td>\n",
       "    </tr>\n",
       "    <tr>\n",
       "      <th>CelestialBody</th>\n",
       "      <td>132</td>\n",
       "      <td>0.0</td>\n",
       "    </tr>\n",
       "    <tr>\n",
       "      <th>City</th>\n",
       "      <td>168</td>\n",
       "      <td>274.0</td>\n",
       "    </tr>\n",
       "    <tr>\n",
       "      <th>ComicsCharacter</th>\n",
       "      <td>46</td>\n",
       "      <td>120.0</td>\n",
       "    </tr>\n",
       "    <tr>\n",
       "      <th>Food</th>\n",
       "      <td>230</td>\n",
       "      <td>340.0</td>\n",
       "    </tr>\n",
       "    <tr>\n",
       "      <th>MeanOfTransportation</th>\n",
       "      <td>229</td>\n",
       "      <td>0.0</td>\n",
       "    </tr>\n",
       "    <tr>\n",
       "      <th>Monument</th>\n",
       "      <td>38</td>\n",
       "      <td>48.0</td>\n",
       "    </tr>\n",
       "    <tr>\n",
       "      <th>Politician</th>\n",
       "      <td>259</td>\n",
       "      <td>0.0</td>\n",
       "    </tr>\n",
       "    <tr>\n",
       "      <th>SportsTeam</th>\n",
       "      <td>151</td>\n",
       "      <td>312.0</td>\n",
       "    </tr>\n",
       "    <tr>\n",
       "      <th>University</th>\n",
       "      <td>61</td>\n",
       "      <td>72.0</td>\n",
       "    </tr>\n",
       "    <tr>\n",
       "      <th>WrittenWork</th>\n",
       "      <td>158</td>\n",
       "      <td>271.0</td>\n",
       "    </tr>\n",
       "  </tbody>\n",
       "</table>\n",
       "</div>"
      ],
      "text/plain": [
       "                      test  train_dev\n",
       "Airport                196      376.0\n",
       "Artist                 252        0.0\n",
       "Astronaut               71       90.0\n",
       "Athlete                199        0.0\n",
       "Building               190      295.0\n",
       "CelestialBody          132        0.0\n",
       "City                   168      274.0\n",
       "ComicsCharacter         46      120.0\n",
       "Food                   230      340.0\n",
       "MeanOfTransportation   229        0.0\n",
       "Monument                38       48.0\n",
       "Politician             259        0.0\n",
       "SportsTeam             151      312.0\n",
       "University              61       72.0\n",
       "WrittenWork            158      271.0"
      ]
     },
     "execution_count": 16,
     "metadata": {},
     "output_type": "execute_result"
    }
   ],
   "source": [
    "# number of unique triples\n",
    "\n",
    "pd.concat({\n",
    "    'train_dev': train_dev.as_pandas.mdf.groupby('category').text.nunique(),\n",
    "    'test': test.as_pandas.mdf.groupby('category').text.nunique()\n",
    "}, axis=1, sort=True, copy=False).fillna(0)"
   ]
  },
  {
   "cell_type": "code",
   "execution_count": 17,
   "metadata": {},
   "outputs": [
    {
     "data": {
      "text/html": [
       "<div>\n",
       "<style scoped>\n",
       "    .dataframe tbody tr th:only-of-type {\n",
       "        vertical-align: middle;\n",
       "    }\n",
       "\n",
       "    .dataframe tbody tr th {\n",
       "        vertical-align: top;\n",
       "    }\n",
       "\n",
       "    .dataframe thead th {\n",
       "        text-align: right;\n",
       "    }\n",
       "</style>\n",
       "<table border=\"1\" class=\"dataframe\">\n",
       "  <thead>\n",
       "    <tr style=\"text-align: right;\">\n",
       "      <th></th>\n",
       "      <th>test</th>\n",
       "      <th>train_dev</th>\n",
       "    </tr>\n",
       "  </thead>\n",
       "  <tbody>\n",
       "    <tr>\n",
       "      <th>Airport</th>\n",
       "      <td>349</td>\n",
       "      <td>3174.0</td>\n",
       "    </tr>\n",
       "    <tr>\n",
       "      <th>Artist</th>\n",
       "      <td>1198</td>\n",
       "      <td>0.0</td>\n",
       "    </tr>\n",
       "    <tr>\n",
       "      <th>Astronaut</th>\n",
       "      <td>174</td>\n",
       "      <td>1718.0</td>\n",
       "    </tr>\n",
       "    <tr>\n",
       "      <th>Athlete</th>\n",
       "      <td>856</td>\n",
       "      <td>0.0</td>\n",
       "    </tr>\n",
       "    <tr>\n",
       "      <th>Building</th>\n",
       "      <td>285</td>\n",
       "      <td>2677.0</td>\n",
       "    </tr>\n",
       "    <tr>\n",
       "      <th>CelestialBody</th>\n",
       "      <td>598</td>\n",
       "      <td>0.0</td>\n",
       "    </tr>\n",
       "    <tr>\n",
       "      <th>City</th>\n",
       "      <td>368</td>\n",
       "      <td>681.0</td>\n",
       "    </tr>\n",
       "    <tr>\n",
       "      <th>ComicsCharacter</th>\n",
       "      <td>88</td>\n",
       "      <td>849.0</td>\n",
       "    </tr>\n",
       "    <tr>\n",
       "      <th>Food</th>\n",
       "      <td>463</td>\n",
       "      <td>4107.0</td>\n",
       "    </tr>\n",
       "    <tr>\n",
       "      <th>MeanOfTransportation</th>\n",
       "      <td>1096</td>\n",
       "      <td>0.0</td>\n",
       "    </tr>\n",
       "    <tr>\n",
       "      <th>Monument</th>\n",
       "      <td>95</td>\n",
       "      <td>881.0</td>\n",
       "    </tr>\n",
       "    <tr>\n",
       "      <th>Politician</th>\n",
       "      <td>1118</td>\n",
       "      <td>0.0</td>\n",
       "    </tr>\n",
       "    <tr>\n",
       "      <th>SportsTeam</th>\n",
       "      <td>244</td>\n",
       "      <td>2247.0</td>\n",
       "    </tr>\n",
       "    <tr>\n",
       "      <th>University</th>\n",
       "      <td>126</td>\n",
       "      <td>1254.0</td>\n",
       "    </tr>\n",
       "    <tr>\n",
       "      <th>WrittenWork</th>\n",
       "      <td>303</td>\n",
       "      <td>2782.0</td>\n",
       "    </tr>\n",
       "  </tbody>\n",
       "</table>\n",
       "</div>"
      ],
      "text/plain": [
       "                      test  train_dev\n",
       "Airport                349     3174.0\n",
       "Artist                1198        0.0\n",
       "Astronaut              174     1718.0\n",
       "Athlete                856        0.0\n",
       "Building               285     2677.0\n",
       "CelestialBody          598        0.0\n",
       "City                   368      681.0\n",
       "ComicsCharacter         88      849.0\n",
       "Food                   463     4107.0\n",
       "MeanOfTransportation  1096        0.0\n",
       "Monument                95      881.0\n",
       "Politician            1118        0.0\n",
       "SportsTeam             244     2247.0\n",
       "University             126     1254.0\n",
       "WrittenWork            303     2782.0"
      ]
     },
     "execution_count": 17,
     "metadata": {},
     "output_type": "execute_result"
    }
   ],
   "source": [
    "# number of lexicalizations\n",
    "\n",
    "pd.concat({\n",
    "    'train_dev': train_dev.as_pandas.ldf.category.value_counts(),\n",
    "    'test': test.as_pandas.ldf.category.value_counts()\n",
    "}, axis=1, sort=True, copy=False).fillna(0)"
   ]
  },
  {
   "cell_type": "code",
   "execution_count": 18,
   "metadata": {},
   "outputs": [
    {
     "data": {
      "text/html": [
       "<div>\n",
       "<style scoped>\n",
       "    .dataframe tbody tr th:only-of-type {\n",
       "        vertical-align: middle;\n",
       "    }\n",
       "\n",
       "    .dataframe tbody tr th {\n",
       "        vertical-align: top;\n",
       "    }\n",
       "\n",
       "    .dataframe thead th {\n",
       "        text-align: right;\n",
       "    }\n",
       "</style>\n",
       "<table border=\"1\" class=\"dataframe\">\n",
       "  <thead>\n",
       "    <tr style=\"text-align: right;\">\n",
       "      <th></th>\n",
       "      <th>test</th>\n",
       "      <th>train_dev</th>\n",
       "    </tr>\n",
       "  </thead>\n",
       "  <tbody>\n",
       "    <tr>\n",
       "      <th>Airport</th>\n",
       "      <td>34</td>\n",
       "      <td>52.0</td>\n",
       "    </tr>\n",
       "    <tr>\n",
       "      <th>Artist</th>\n",
       "      <td>28</td>\n",
       "      <td>0.0</td>\n",
       "    </tr>\n",
       "    <tr>\n",
       "      <th>Astronaut</th>\n",
       "      <td>27</td>\n",
       "      <td>38.0</td>\n",
       "    </tr>\n",
       "    <tr>\n",
       "      <th>Athlete</th>\n",
       "      <td>30</td>\n",
       "      <td>0.0</td>\n",
       "    </tr>\n",
       "    <tr>\n",
       "      <th>Building</th>\n",
       "      <td>38</td>\n",
       "      <td>46.0</td>\n",
       "    </tr>\n",
       "    <tr>\n",
       "      <th>CelestialBody</th>\n",
       "      <td>25</td>\n",
       "      <td>0.0</td>\n",
       "    </tr>\n",
       "    <tr>\n",
       "      <th>City</th>\n",
       "      <td>19</td>\n",
       "      <td>23.0</td>\n",
       "    </tr>\n",
       "    <tr>\n",
       "      <th>ComicsCharacter</th>\n",
       "      <td>16</td>\n",
       "      <td>19.0</td>\n",
       "    </tr>\n",
       "    <tr>\n",
       "      <th>Food</th>\n",
       "      <td>20</td>\n",
       "      <td>34.0</td>\n",
       "    </tr>\n",
       "    <tr>\n",
       "      <th>MeanOfTransportation</th>\n",
       "      <td>66</td>\n",
       "      <td>0.0</td>\n",
       "    </tr>\n",
       "    <tr>\n",
       "      <th>Monument</th>\n",
       "      <td>24</td>\n",
       "      <td>30.0</td>\n",
       "    </tr>\n",
       "    <tr>\n",
       "      <th>Politician</th>\n",
       "      <td>42</td>\n",
       "      <td>0.0</td>\n",
       "    </tr>\n",
       "    <tr>\n",
       "      <th>SportsTeam</th>\n",
       "      <td>25</td>\n",
       "      <td>31.0</td>\n",
       "    </tr>\n",
       "    <tr>\n",
       "      <th>University</th>\n",
       "      <td>35</td>\n",
       "      <td>41.0</td>\n",
       "    </tr>\n",
       "    <tr>\n",
       "      <th>WrittenWork</th>\n",
       "      <td>36</td>\n",
       "      <td>50.0</td>\n",
       "    </tr>\n",
       "  </tbody>\n",
       "</table>\n",
       "</div>"
      ],
      "text/plain": [
       "                      test  train_dev\n",
       "Airport                 34       52.0\n",
       "Artist                  28        0.0\n",
       "Astronaut               27       38.0\n",
       "Athlete                 30        0.0\n",
       "Building                38       46.0\n",
       "CelestialBody           25        0.0\n",
       "City                    19       23.0\n",
       "ComicsCharacter         16       19.0\n",
       "Food                    20       34.0\n",
       "MeanOfTransportation    66        0.0\n",
       "Monument                24       30.0\n",
       "Politician              42        0.0\n",
       "SportsTeam              25       31.0\n",
       "University              35       41.0\n",
       "WrittenWork             36       50.0"
      ]
     },
     "execution_count": 18,
     "metadata": {},
     "output_type": "execute_result"
    }
   ],
   "source": [
    "# number of unique properties\n",
    "\n",
    "pd.concat({\n",
    "    'train_dev': train_dev.as_pandas.mdf.groupby('category').predicate.nunique(),\n",
    "    'test': test.as_pandas.mdf.groupby('category').predicate.nunique()\n",
    "}, axis=1, sort=True, copy=False).fillna(0)"
   ]
  },
  {
   "cell_type": "code",
   "execution_count": 19,
   "metadata": {},
   "outputs": [
    {
     "data": {
      "text/html": [
       "<div>\n",
       "<style scoped>\n",
       "    .dataframe tbody tr th:only-of-type {\n",
       "        vertical-align: middle;\n",
       "    }\n",
       "\n",
       "    .dataframe tbody tr th {\n",
       "        vertical-align: top;\n",
       "    }\n",
       "\n",
       "    .dataframe thead th {\n",
       "        text-align: right;\n",
       "    }\n",
       "</style>\n",
       "<table border=\"1\" class=\"dataframe\">\n",
       "  <thead>\n",
       "    <tr style=\"text-align: right;\">\n",
       "      <th></th>\n",
       "      <th>test</th>\n",
       "      <th>train_dev</th>\n",
       "    </tr>\n",
       "  </thead>\n",
       "  <tbody>\n",
       "    <tr>\n",
       "      <th>Airport</th>\n",
       "      <td>54</td>\n",
       "      <td>69.0</td>\n",
       "    </tr>\n",
       "    <tr>\n",
       "      <th>Artist</th>\n",
       "      <td>50</td>\n",
       "      <td>0.0</td>\n",
       "    </tr>\n",
       "    <tr>\n",
       "      <th>Astronaut</th>\n",
       "      <td>16</td>\n",
       "      <td>18.0</td>\n",
       "    </tr>\n",
       "    <tr>\n",
       "      <th>Athlete</th>\n",
       "      <td>60</td>\n",
       "      <td>0.0</td>\n",
       "    </tr>\n",
       "    <tr>\n",
       "      <th>Building</th>\n",
       "      <td>53</td>\n",
       "      <td>59.0</td>\n",
       "    </tr>\n",
       "    <tr>\n",
       "      <th>CelestialBody</th>\n",
       "      <td>21</td>\n",
       "      <td>0.0</td>\n",
       "    </tr>\n",
       "    <tr>\n",
       "      <th>City</th>\n",
       "      <td>48</td>\n",
       "      <td>66.0</td>\n",
       "    </tr>\n",
       "    <tr>\n",
       "      <th>ComicsCharacter</th>\n",
       "      <td>21</td>\n",
       "      <td>44.0</td>\n",
       "    </tr>\n",
       "    <tr>\n",
       "      <th>Food</th>\n",
       "      <td>51</td>\n",
       "      <td>60.0</td>\n",
       "    </tr>\n",
       "    <tr>\n",
       "      <th>MeanOfTransportation</th>\n",
       "      <td>51</td>\n",
       "      <td>0.0</td>\n",
       "    </tr>\n",
       "    <tr>\n",
       "      <th>Monument</th>\n",
       "      <td>8</td>\n",
       "      <td>10.0</td>\n",
       "    </tr>\n",
       "    <tr>\n",
       "      <th>Politician</th>\n",
       "      <td>61</td>\n",
       "      <td>0.0</td>\n",
       "    </tr>\n",
       "    <tr>\n",
       "      <th>SportsTeam</th>\n",
       "      <td>47</td>\n",
       "      <td>56.0</td>\n",
       "    </tr>\n",
       "    <tr>\n",
       "      <th>University</th>\n",
       "      <td>18</td>\n",
       "      <td>19.0</td>\n",
       "    </tr>\n",
       "    <tr>\n",
       "      <th>WrittenWork</th>\n",
       "      <td>43</td>\n",
       "      <td>55.0</td>\n",
       "    </tr>\n",
       "  </tbody>\n",
       "</table>\n",
       "</div>"
      ],
      "text/plain": [
       "                      test  train_dev\n",
       "Airport                 54       69.0\n",
       "Artist                  50        0.0\n",
       "Astronaut               16       18.0\n",
       "Athlete                 60        0.0\n",
       "Building                53       59.0\n",
       "CelestialBody           21        0.0\n",
       "City                    48       66.0\n",
       "ComicsCharacter         21       44.0\n",
       "Food                    51       60.0\n",
       "MeanOfTransportation    51        0.0\n",
       "Monument                 8       10.0\n",
       "Politician              61        0.0\n",
       "SportsTeam              47       56.0\n",
       "University              18       19.0\n",
       "WrittenWork             43       55.0"
      ]
     },
     "execution_count": 19,
     "metadata": {},
     "output_type": "execute_result"
    }
   ],
   "source": [
    "# number of unique subjects\n",
    "\n",
    "pd.concat({\n",
    "    'train_dev': train_dev.as_pandas.mdf.groupby('category').subject.nunique(),\n",
    "    'test': test.as_pandas.mdf.groupby('category').subject.nunique()\n",
    "}, axis=1, sort=True, copy=False).fillna(0)"
   ]
  },
  {
   "cell_type": "code",
   "execution_count": 20,
   "metadata": {},
   "outputs": [
    {
     "data": {
      "text/html": [
       "<div>\n",
       "<style scoped>\n",
       "    .dataframe tbody tr th:only-of-type {\n",
       "        vertical-align: middle;\n",
       "    }\n",
       "\n",
       "    .dataframe tbody tr th {\n",
       "        vertical-align: top;\n",
       "    }\n",
       "\n",
       "    .dataframe thead th {\n",
       "        text-align: right;\n",
       "    }\n",
       "</style>\n",
       "<table border=\"1\" class=\"dataframe\">\n",
       "  <thead>\n",
       "    <tr style=\"text-align: right;\">\n",
       "      <th></th>\n",
       "      <th>test</th>\n",
       "      <th>train_dev</th>\n",
       "    </tr>\n",
       "  </thead>\n",
       "  <tbody>\n",
       "    <tr>\n",
       "      <th>Airport</th>\n",
       "      <td>178</td>\n",
       "      <td>305.0</td>\n",
       "    </tr>\n",
       "    <tr>\n",
       "      <th>Artist</th>\n",
       "      <td>194</td>\n",
       "      <td>0.0</td>\n",
       "    </tr>\n",
       "    <tr>\n",
       "      <th>Astronaut</th>\n",
       "      <td>56</td>\n",
       "      <td>71.0</td>\n",
       "    </tr>\n",
       "    <tr>\n",
       "      <th>Athlete</th>\n",
       "      <td>183</td>\n",
       "      <td>0.0</td>\n",
       "    </tr>\n",
       "    <tr>\n",
       "      <th>Building</th>\n",
       "      <td>172</td>\n",
       "      <td>258.0</td>\n",
       "    </tr>\n",
       "    <tr>\n",
       "      <th>CelestialBody</th>\n",
       "      <td>119</td>\n",
       "      <td>0.0</td>\n",
       "    </tr>\n",
       "    <tr>\n",
       "      <th>City</th>\n",
       "      <td>116</td>\n",
       "      <td>186.0</td>\n",
       "    </tr>\n",
       "    <tr>\n",
       "      <th>ComicsCharacter</th>\n",
       "      <td>44</td>\n",
       "      <td>97.0</td>\n",
       "    </tr>\n",
       "    <tr>\n",
       "      <th>Food</th>\n",
       "      <td>192</td>\n",
       "      <td>276.0</td>\n",
       "    </tr>\n",
       "    <tr>\n",
       "      <th>MeanOfTransportation</th>\n",
       "      <td>203</td>\n",
       "      <td>0.0</td>\n",
       "    </tr>\n",
       "    <tr>\n",
       "      <th>Monument</th>\n",
       "      <td>34</td>\n",
       "      <td>42.0</td>\n",
       "    </tr>\n",
       "    <tr>\n",
       "      <th>Politician</th>\n",
       "      <td>222</td>\n",
       "      <td>0.0</td>\n",
       "    </tr>\n",
       "    <tr>\n",
       "      <th>SportsTeam</th>\n",
       "      <td>136</td>\n",
       "      <td>256.0</td>\n",
       "    </tr>\n",
       "    <tr>\n",
       "      <th>University</th>\n",
       "      <td>59</td>\n",
       "      <td>70.0</td>\n",
       "    </tr>\n",
       "    <tr>\n",
       "      <th>WrittenWork</th>\n",
       "      <td>124</td>\n",
       "      <td>210.0</td>\n",
       "    </tr>\n",
       "  </tbody>\n",
       "</table>\n",
       "</div>"
      ],
      "text/plain": [
       "                      test  train_dev\n",
       "Airport                178      305.0\n",
       "Artist                 194        0.0\n",
       "Astronaut               56       71.0\n",
       "Athlete                183        0.0\n",
       "Building               172      258.0\n",
       "CelestialBody          119        0.0\n",
       "City                   116      186.0\n",
       "ComicsCharacter         44       97.0\n",
       "Food                   192      276.0\n",
       "MeanOfTransportation   203        0.0\n",
       "Monument                34       42.0\n",
       "Politician             222        0.0\n",
       "SportsTeam             136      256.0\n",
       "University              59       70.0\n",
       "WrittenWork            124      210.0"
      ]
     },
     "execution_count": 20,
     "metadata": {},
     "output_type": "execute_result"
    }
   ],
   "source": [
    "# number of unique subjects\n",
    "\n",
    "pd.concat({\n",
    "    'train_dev': train_dev.as_pandas.mdf.groupby('category').object.nunique(),\n",
    "    'test': test.as_pandas.mdf.groupby('category').object.nunique()\n",
    "}, axis=1, sort=True, copy=False).fillna(0)"
   ]
  },
  {
   "cell_type": "markdown",
   "metadata": {},
   "source": [
    "# TODO\n",
    "\n",
    " 6. which dbpedia entities are described and their count per category (info from here) - by 'described' do you mean it appearing as a subject in one triple? So 'Brazil' is being described in <Brazil, is, country>, but not in <Abelardo, lives_in, Brazil>?\n",
    "Those entities are not only subjects, but more importantly roots of the trees in WebNLG.\n",
    "\n",
    "\n",
    "Then explain and show that each input is a tree.\n",
    "            1. n of tree types (sibling, mixed, chain), examples - is this the attribute shape_type added to the v2 release, right?\n",
    "Yes, it is that attribute. Please use the final release for your statistics. Then you can make another notebook for the challenge data.\n",
    "\n",
    "\n",
    "            2. n of tree shapes -  and this the attribute shape?\n",
    "yes, in the v2 release.\n",
    "\n",
    "\n",
    "\n",
    "Vocabulary\n",
    "            1. n of tokens\n",
    "\n",
    "            2. n of types\n",
    "\n",
    "            3. distribution of 1. and 2. per size."
   ]
  }
 ],
 "metadata": {
  "kernelspec": {
   "display_name": "Python 3",
   "language": "python",
   "name": "python3"
  },
  "language_info": {
   "codemirror_mode": {
    "name": "ipython",
    "version": 3
   },
   "file_extension": ".py",
   "mimetype": "text/x-python",
   "name": "python",
   "nbconvert_exporter": "python",
   "pygments_lexer": "ipython3",
   "version": "3.7.3"
  }
 },
 "nbformat": 4,
 "nbformat_minor": 2
}

{
 "cells": [
  {
   "cell_type": "markdown",
   "metadata": {},
   "source": [
    "# WebNLG Corpus Documentation\n",
    "This notebook explains the structure of the WebNLG corpus and gives some corpus descriptive statistics. All of that is illustrated by the means of the `webnlg_corpus` PyPi package.\n",
    "\n",
    "## Installing Corpus Access Library\n",
    "The `webnlg_corpus` PyPi package provides API to interact with XML: https://gitlab.com/shimorina/webnlg-dataset"
   ]
  },
  {
   "cell_type": "code",
   "execution_count": 15,
   "metadata": {},
   "outputs": [
    {
     "name": "stdout",
     "output_type": "stream",
     "text": [
      "Requirement already satisfied: webnlg_corpus==0.1.dev10 in /home/anastasia/.local/lib/python3.6/site-packages (0.1.dev10)\n",
      "Requirement already satisfied: pandas in /home/anastasia/.local/lib/python3.6/site-packages (from webnlg_corpus==0.1.dev10) (0.24.0)\n",
      "Requirement already satisfied: tinydb in /home/anastasia/.local/lib/python3.6/site-packages (from webnlg_corpus==0.1.dev10) (3.13.0)\n",
      "Requirement already satisfied: pytz>=2011k in /usr/lib/python3/dist-packages (from pandas->webnlg_corpus==0.1.dev10) (2018.3)\n",
      "Requirement already satisfied: python-dateutil>=2.5.0 in /usr/lib/python3/dist-packages (from pandas->webnlg_corpus==0.1.dev10) (2.6.1)\n",
      "Requirement already satisfied: numpy>=1.12.0 in /home/anastasia/.local/lib/python3.6/site-packages (from pandas->webnlg_corpus==0.1.dev10) (1.16.1)\n",
      "\u001b[33mYou are using pip version 19.0.3, however version 19.1 is available.\n",
      "You should consider upgrading via the 'pip install --upgrade pip' command.\u001b[0m\n"
     ]
    }
   ],
   "source": [
    "!pip install webnlg_corpus==0.1.dev10"
   ]
  },
  {
   "cell_type": "code",
   "execution_count": 4,
   "metadata": {},
   "outputs": [
    {
     "name": "stdout",
     "output_type": "stream",
     "text": [
      "Name: webnlg-corpus\r\n",
      "Version: 0.1.dev10\r\n",
      "Summary: WebNLG Corpus\r\n",
      "Home-page: https://github.com/abevieiramota/webnlg_corpus\r\n",
      "Author: Abelardo Vieira Mota\r\n",
      "Author-email: abevieiramota@gmail.com\r\n",
      "License: CC BY-NC-SA 4.0\r\n",
      "Location: /home/anastasia/.local/lib/python3.6/site-packages\r\n",
      "Requires: tinydb, pandas\r\n",
      "Required-by: \r\n"
     ]
    }
   ],
   "source": [
    "!pip show webnlg_corpus"
   ]
  },
  {
   "cell_type": "markdown",
   "metadata": {},
   "source": [
    "## Downloading Corpus Releases"
   ]
  },
  {
   "cell_type": "markdown",
   "metadata": {},
   "source": [
    "### Currently available releases"
   ]
  },
  {
   "cell_type": "code",
   "execution_count": 5,
   "metadata": {},
   "outputs": [
    {
     "data": {
      "text/plain": [
       "dict_keys(['webnlg_challenge_2017', 'release_v2', 'release_v2_constrained'])"
      ]
     },
     "execution_count": 5,
     "metadata": {},
     "output_type": "execute_result"
    }
   ],
   "source": [
    "from webnlg_corpus import config\n",
    "\n",
    "config.RELEASES_URLS.keys()"
   ]
  },
  {
   "cell_type": "markdown",
   "metadata": {},
   "source": [
    "Currently there are three releases available. The release history is described [here](https://gitlab.com/shimorina/webnlg-dataset).\n",
    "\n",
    "### Downloading the release used in the WebNLG challenge"
   ]
  },
  {
   "cell_type": "code",
   "execution_count": 6,
   "metadata": {},
   "outputs": [],
   "source": [
    "from webnlg_corpus import downloader\n",
    "\n",
    "# force=True overrides previous release download\n",
    "downloader.download('webnlg_challenge_2017', force=True)"
   ]
  },
  {
   "cell_type": "code",
   "execution_count": null,
   "metadata": {},
   "outputs": [],
   "source": [
    "# download v2\n",
    "downloader.download('release_v2', force=True)"
   ]
  },
  {
   "cell_type": "code",
   "execution_count": 7,
   "metadata": {},
   "outputs": [
    {
     "data": {
      "text/plain": [
       "'/home/anastasia/webnlg_data'"
      ]
     },
     "execution_count": 7,
     "metadata": {},
     "output_type": "execute_result"
    }
   ],
   "source": [
    "downloader.default_download_dir()"
   ]
  },
  {
   "cell_type": "markdown",
   "metadata": {},
   "source": [
    "## Explaining WebNLG"
   ]
  },
  {
   "cell_type": "markdown",
   "metadata": {},
   "source": [
    "### Loading the corpus into memory"
   ]
  },
  {
   "cell_type": "code",
   "execution_count": 8,
   "metadata": {},
   "outputs": [],
   "source": [
    "from webnlg_corpus import webnlg\n",
    "\n",
    "corpus = webnlg.load('release_v2')"
   ]
  },
  {
   "cell_type": "markdown",
   "metadata": {},
   "source": [
    "### Looking at some examples"
   ]
  },
  {
   "cell_type": "markdown",
   "metadata": {},
   "source": [
    "You can select a corpus instance (called _entry_) with `corpus.sample`."
   ]
  },
  {
   "cell_type": "code",
   "execution_count": 15,
   "metadata": {},
   "outputs": [
    {
     "data": {
      "text/plain": [
       "Triple info: Category=City eid=Id80 idx=train_City_4_Id80\n",
       "\n",
       "\tModified Triples:\n",
       "\n",
       "Antioch,_California | populationTotal | 102372\n",
       "Antioch,_California | UTCOffset | \"-8\"\n",
       "Antioch,_California | areaCode | 925\n",
       "Antioch,_California | areaTotal | 75.324 (square kilometres)\n",
       "\n",
       "\n",
       "\tLexicalizations:\n",
       "\n",
       "Antioch in California has a population of 102,372 and covers an area of 75.324 square kilometres. The area code for Antioch is 925 and the UTC offset is -8.\n",
       "\n",
       "\n",
       "The population of Antioch, California is 102372 and the UTC offset is -8. Antioch has the area code 925 and its total area is 75.324 square km.\n"
      ]
     },
     "execution_count": 15,
     "metadata": {},
     "output_type": "execute_result"
    }
   ],
   "source": [
    "# set random seed to 1 to get the same corpus instance across different runs\n",
    "# look only in the training data\n",
    "corpus.sample(seed=1, datasets=['train'])\n",
    "\n",
    "# TODO: need to add odf to the sample method as well; triple info -> entry info"
   ]
  },
  {
   "cell_type": "markdown",
   "metadata": {},
   "source": [
    "### Understanding an entry\n",
    "\n",
    "WebNLG consists of Data/Text pairs where the data is a set of RDF triples extracted from DBpedia and the text is a verbalisation of these triples.\n",
    "\n",
    "Each entry contains\n",
    "\n",
    "An entry in WebNLG contains the following information:\n",
    "\n",
    "* **Original Triples**: todo\n",
    "\n",
    "* **Modified Triples**: contains the entry input data, a set of lexicalized triples that should be verbalized. They are an modification of the triples extracted from DBpedia. More about in: http://webnlg.loria.fr/pages/docs.html \n",
    "\n",
    "* **Category**: the main topic of the entry input data(Modified Triples)\n",
    "\n",
    "* **Lexicalizations**: contains the entry reference texts\n",
    "\n",
    "* **eid**: is an entry identifier in the XML file\n",
    "\n",
    "* **idx**: is an entry identifier in the release. Its structure is: {dataset part}\\_{category}\\_{number of triples}\\_{eid}"
   ]
  },
  {
   "cell_type": "markdown",
   "metadata": {},
   "source": [
    "There are entries with a number of triples going from 1 to 7"
   ]
  },
  {
   "cell_type": "code",
   "execution_count": 10,
   "metadata": {},
   "outputs": [
    {
     "data": {
      "text/plain": [
       "Triple info: Category=University eid=Id35 idx=train_University_7_Id35\n",
       "\n",
       "\tModified Triples:\n",
       "\n",
       "Karnataka | has to its northeast | Telangana\n",
       "Visvesvaraya_Technological_University | city | Belgaum\n",
       "Acharya_Institute_of_Technology | sportsOffered | Tennis\n",
       "Tennis | sportsGoverningBody | International_Tennis_Federation\n",
       "Karnataka | has to its west | Arabian_Sea\n",
       "Acharya_Institute_of_Technology | state | Karnataka\n",
       "Acharya_Institute_of_Technology | affiliation | Visvesvaraya_Technological_University\n",
       "\n",
       "\n",
       "\tLexicalizations:\n",
       "\n",
       "Karnataka is located southwest of Telangana and has the Arabian Sea to the west. The state is the location of the Acharya Institute of Technology which is affiliated to the Visvesvaraya Technological University in the city of Belgaum. The Institute offers the sport of tennis which has the International tennis Federation as it's governing body.\n",
       "\n",
       "\n",
       "The Acharya Institute of Technology is located in Karnatka and it is affiliated to the Visvesvaraya Technological University in Belgaum. Its offered sport is tennis, whose governing body is the International Tennis Federation. Karnataka has Telangana to its northeast and the Arabian Sea to its west.\n",
       "\n",
       "\n",
       "The Acharya Institute of Technology is affiliated with Visvesvaraya Technological University in Belgium. The institute is in the state of Karnataka which has the Arabian Sea to its west and Telangana to its northeast. The school offers tennis which is governed by the International Tennis Federation.\n"
      ]
     },
     "execution_count": 10,
     "metadata": {},
     "output_type": "execute_result"
    }
   ],
   "source": [
    "corpus.sample(seed=1, ntriples=[7], datasets=['train'])"
   ]
  },
  {
   "cell_type": "markdown",
   "metadata": {},
   "source": [
    "## Calculating Some Corpus Statistics"
   ]
  },
  {
   "cell_type": "code",
   "execution_count": 10,
   "metadata": {},
   "outputs": [],
   "source": [
    "import pandas as pd\n",
    "\n",
    "train_dev = corpus.subset(datasets=['train', 'dev'])\n",
    "test = corpus.subset(datasets=['test'])"
   ]
  },
  {
   "cell_type": "code",
   "execution_count": 11,
   "metadata": {},
   "outputs": [
    {
     "data": {
      "text/plain": [
       "{'train_dev': 2131, 'test': 2331}"
      ]
     },
     "execution_count": 11,
     "metadata": {},
     "output_type": "execute_result"
    }
   ],
   "source": [
    "# number of unique triples\n",
    "\n",
    "{\n",
    "    'train_dev': train_dev.as_pandas.mdf.text.nunique(),\n",
    "    'test': test.as_pandas.mdf.text.nunique()\n",
    "}"
   ]
  },
  {
   "cell_type": "code",
   "execution_count": 12,
   "metadata": {},
   "outputs": [
    {
     "data": {
      "text/plain": [
       "{'train_dev': 20370, 'test': 7361}"
      ]
     },
     "execution_count": 12,
     "metadata": {},
     "output_type": "execute_result"
    }
   ],
   "source": [
    "# number of lexicalizations\n",
    "\n",
    "{\n",
    "    'train_dev': len(train_dev.as_pandas.ldf),\n",
    "    'test': len(test.as_pandas.ldf)\n",
    "}"
   ]
  },
  {
   "cell_type": "code",
   "execution_count": 13,
   "metadata": {},
   "outputs": [
    {
     "data": {
      "text/plain": [
       "{'train_dev': 246, 'test': 300}"
      ]
     },
     "execution_count": 13,
     "metadata": {},
     "output_type": "execute_result"
    }
   ],
   "source": [
    "# number of unique properties\n",
    "\n",
    "{\n",
    "    'train_dev': train_dev.as_pandas.mdf.predicate.nunique(),\n",
    "    'test': test.as_pandas.mdf.predicate.nunique()\n",
    "}"
   ]
  },
  {
   "cell_type": "code",
   "execution_count": 14,
   "metadata": {},
   "outputs": [
    {
     "data": {
      "text/plain": [
       "{'train_dev': 434, 'test': 575}"
      ]
     },
     "execution_count": 14,
     "metadata": {},
     "output_type": "execute_result"
    }
   ],
   "source": [
    "# number of unique subjects\n",
    "\n",
    "{\n",
    "    'train_dev': train_dev.as_pandas.mdf.subject.nunique(),\n",
    "    'test': test.as_pandas.mdf.subject.nunique()\n",
    "}"
   ]
  },
  {
   "cell_type": "code",
   "execution_count": 15,
   "metadata": {},
   "outputs": [
    {
     "data": {
      "text/plain": [
       "{'train_dev': 1642, 'test': 1888}"
      ]
     },
     "execution_count": 15,
     "metadata": {},
     "output_type": "execute_result"
    }
   ],
   "source": [
    "# distribution of above per category\n",
    "\n",
    "{\n",
    "    'train_dev': train_dev.as_pandas.mdf.object.nunique(),\n",
    "    'test': test.as_pandas.mdf.object.nunique()\n",
    "}"
   ]
  },
  {
   "cell_type": "markdown",
   "metadata": {},
   "source": [
    "### per category"
   ]
  },
  {
   "cell_type": "code",
   "execution_count": 16,
   "metadata": {},
   "outputs": [
    {
     "data": {
      "text/html": [
       "<div>\n",
       "<style scoped>\n",
       "    .dataframe tbody tr th:only-of-type {\n",
       "        vertical-align: middle;\n",
       "    }\n",
       "\n",
       "    .dataframe tbody tr th {\n",
       "        vertical-align: top;\n",
       "    }\n",
       "\n",
       "    .dataframe thead th {\n",
       "        text-align: right;\n",
       "    }\n",
       "</style>\n",
       "<table border=\"1\" class=\"dataframe\">\n",
       "  <thead>\n",
       "    <tr style=\"text-align: right;\">\n",
       "      <th></th>\n",
       "      <th>test</th>\n",
       "      <th>train_dev</th>\n",
       "    </tr>\n",
       "  </thead>\n",
       "  <tbody>\n",
       "    <tr>\n",
       "      <th>Airport</th>\n",
       "      <td>196</td>\n",
       "      <td>376.0</td>\n",
       "    </tr>\n",
       "    <tr>\n",
       "      <th>Artist</th>\n",
       "      <td>252</td>\n",
       "      <td>0.0</td>\n",
       "    </tr>\n",
       "    <tr>\n",
       "      <th>Astronaut</th>\n",
       "      <td>71</td>\n",
       "      <td>90.0</td>\n",
       "    </tr>\n",
       "    <tr>\n",
       "      <th>Athlete</th>\n",
       "      <td>199</td>\n",
       "      <td>0.0</td>\n",
       "    </tr>\n",
       "    <tr>\n",
       "      <th>Building</th>\n",
       "      <td>190</td>\n",
       "      <td>295.0</td>\n",
       "    </tr>\n",
       "    <tr>\n",
       "      <th>CelestialBody</th>\n",
       "      <td>132</td>\n",
       "      <td>0.0</td>\n",
       "    </tr>\n",
       "    <tr>\n",
       "      <th>City</th>\n",
       "      <td>168</td>\n",
       "      <td>274.0</td>\n",
       "    </tr>\n",
       "    <tr>\n",
       "      <th>ComicsCharacter</th>\n",
       "      <td>46</td>\n",
       "      <td>120.0</td>\n",
       "    </tr>\n",
       "    <tr>\n",
       "      <th>Food</th>\n",
       "      <td>230</td>\n",
       "      <td>340.0</td>\n",
       "    </tr>\n",
       "    <tr>\n",
       "      <th>MeanOfTransportation</th>\n",
       "      <td>229</td>\n",
       "      <td>0.0</td>\n",
       "    </tr>\n",
       "    <tr>\n",
       "      <th>Monument</th>\n",
       "      <td>38</td>\n",
       "      <td>48.0</td>\n",
       "    </tr>\n",
       "    <tr>\n",
       "      <th>Politician</th>\n",
       "      <td>259</td>\n",
       "      <td>0.0</td>\n",
       "    </tr>\n",
       "    <tr>\n",
       "      <th>SportsTeam</th>\n",
       "      <td>151</td>\n",
       "      <td>312.0</td>\n",
       "    </tr>\n",
       "    <tr>\n",
       "      <th>University</th>\n",
       "      <td>61</td>\n",
       "      <td>72.0</td>\n",
       "    </tr>\n",
       "    <tr>\n",
       "      <th>WrittenWork</th>\n",
       "      <td>158</td>\n",
       "      <td>271.0</td>\n",
       "    </tr>\n",
       "  </tbody>\n",
       "</table>\n",
       "</div>"
      ],
      "text/plain": [
       "                      test  train_dev\n",
       "Airport                196      376.0\n",
       "Artist                 252        0.0\n",
       "Astronaut               71       90.0\n",
       "Athlete                199        0.0\n",
       "Building               190      295.0\n",
       "CelestialBody          132        0.0\n",
       "City                   168      274.0\n",
       "ComicsCharacter         46      120.0\n",
       "Food                   230      340.0\n",
       "MeanOfTransportation   229        0.0\n",
       "Monument                38       48.0\n",
       "Politician             259        0.0\n",
       "SportsTeam             151      312.0\n",
       "University              61       72.0\n",
       "WrittenWork            158      271.0"
      ]
     },
     "execution_count": 16,
     "metadata": {},
     "output_type": "execute_result"
    }
   ],
   "source": [
    "# number of unique triples\n",
    "\n",
    "pd.concat({\n",
    "    'train_dev': train_dev.as_pandas.mdf.groupby('category').text.nunique(),\n",
    "    'test': test.as_pandas.mdf.groupby('category').text.nunique()\n",
    "}, axis=1, sort=True, copy=False).fillna(0)"
   ]
  },
  {
   "cell_type": "code",
   "execution_count": 17,
   "metadata": {},
   "outputs": [
    {
     "data": {
      "text/html": [
       "<div>\n",
       "<style scoped>\n",
       "    .dataframe tbody tr th:only-of-type {\n",
       "        vertical-align: middle;\n",
       "    }\n",
       "\n",
       "    .dataframe tbody tr th {\n",
       "        vertical-align: top;\n",
       "    }\n",
       "\n",
       "    .dataframe thead th {\n",
       "        text-align: right;\n",
       "    }\n",
       "</style>\n",
       "<table border=\"1\" class=\"dataframe\">\n",
       "  <thead>\n",
       "    <tr style=\"text-align: right;\">\n",
       "      <th></th>\n",
       "      <th>test</th>\n",
       "      <th>train_dev</th>\n",
       "    </tr>\n",
       "  </thead>\n",
       "  <tbody>\n",
       "    <tr>\n",
       "      <th>Airport</th>\n",
       "      <td>349</td>\n",
       "      <td>3174.0</td>\n",
       "    </tr>\n",
       "    <tr>\n",
       "      <th>Artist</th>\n",
       "      <td>1198</td>\n",
       "      <td>0.0</td>\n",
       "    </tr>\n",
       "    <tr>\n",
       "      <th>Astronaut</th>\n",
       "      <td>174</td>\n",
       "      <td>1718.0</td>\n",
       "    </tr>\n",
       "    <tr>\n",
       "      <th>Athlete</th>\n",
       "      <td>856</td>\n",
       "      <td>0.0</td>\n",
       "    </tr>\n",
       "    <tr>\n",
       "      <th>Building</th>\n",
       "      <td>285</td>\n",
       "      <td>2677.0</td>\n",
       "    </tr>\n",
       "    <tr>\n",
       "      <th>CelestialBody</th>\n",
       "      <td>598</td>\n",
       "      <td>0.0</td>\n",
       "    </tr>\n",
       "    <tr>\n",
       "      <th>City</th>\n",
       "      <td>368</td>\n",
       "      <td>681.0</td>\n",
       "    </tr>\n",
       "    <tr>\n",
       "      <th>ComicsCharacter</th>\n",
       "      <td>88</td>\n",
       "      <td>849.0</td>\n",
       "    </tr>\n",
       "    <tr>\n",
       "      <th>Food</th>\n",
       "      <td>463</td>\n",
       "      <td>4107.0</td>\n",
       "    </tr>\n",
       "    <tr>\n",
       "      <th>MeanOfTransportation</th>\n",
       "      <td>1096</td>\n",
       "      <td>0.0</td>\n",
       "    </tr>\n",
       "    <tr>\n",
       "      <th>Monument</th>\n",
       "      <td>95</td>\n",
       "      <td>881.0</td>\n",
       "    </tr>\n",
       "    <tr>\n",
       "      <th>Politician</th>\n",
       "      <td>1118</td>\n",
       "      <td>0.0</td>\n",
       "    </tr>\n",
       "    <tr>\n",
       "      <th>SportsTeam</th>\n",
       "      <td>244</td>\n",
       "      <td>2247.0</td>\n",
       "    </tr>\n",
       "    <tr>\n",
       "      <th>University</th>\n",
       "      <td>126</td>\n",
       "      <td>1254.0</td>\n",
       "    </tr>\n",
       "    <tr>\n",
       "      <th>WrittenWork</th>\n",
       "      <td>303</td>\n",
       "      <td>2782.0</td>\n",
       "    </tr>\n",
       "  </tbody>\n",
       "</table>\n",
       "</div>"
      ],
      "text/plain": [
       "                      test  train_dev\n",
       "Airport                349     3174.0\n",
       "Artist                1198        0.0\n",
       "Astronaut              174     1718.0\n",
       "Athlete                856        0.0\n",
       "Building               285     2677.0\n",
       "CelestialBody          598        0.0\n",
       "City                   368      681.0\n",
       "ComicsCharacter         88      849.0\n",
       "Food                   463     4107.0\n",
       "MeanOfTransportation  1096        0.0\n",
       "Monument                95      881.0\n",
       "Politician            1118        0.0\n",
       "SportsTeam             244     2247.0\n",
       "University             126     1254.0\n",
       "WrittenWork            303     2782.0"
      ]
     },
     "execution_count": 17,
     "metadata": {},
     "output_type": "execute_result"
    }
   ],
   "source": [
    "# number of lexicalizations\n",
    "\n",
    "pd.concat({\n",
    "    'train_dev': train_dev.as_pandas.ldf.category.value_counts(),\n",
    "    'test': test.as_pandas.ldf.category.value_counts()\n",
    "}, axis=1, sort=True, copy=False).fillna(0)"
   ]
  },
  {
   "cell_type": "code",
   "execution_count": 18,
   "metadata": {},
   "outputs": [
    {
     "data": {
      "text/html": [
       "<div>\n",
       "<style scoped>\n",
       "    .dataframe tbody tr th:only-of-type {\n",
       "        vertical-align: middle;\n",
       "    }\n",
       "\n",
       "    .dataframe tbody tr th {\n",
       "        vertical-align: top;\n",
       "    }\n",
       "\n",
       "    .dataframe thead th {\n",
       "        text-align: right;\n",
       "    }\n",
       "</style>\n",
       "<table border=\"1\" class=\"dataframe\">\n",
       "  <thead>\n",
       "    <tr style=\"text-align: right;\">\n",
       "      <th></th>\n",
       "      <th>test</th>\n",
       "      <th>train_dev</th>\n",
       "    </tr>\n",
       "  </thead>\n",
       "  <tbody>\n",
       "    <tr>\n",
       "      <th>Airport</th>\n",
       "      <td>34</td>\n",
       "      <td>52.0</td>\n",
       "    </tr>\n",
       "    <tr>\n",
       "      <th>Artist</th>\n",
       "      <td>28</td>\n",
       "      <td>0.0</td>\n",
       "    </tr>\n",
       "    <tr>\n",
       "      <th>Astronaut</th>\n",
       "      <td>27</td>\n",
       "      <td>38.0</td>\n",
       "    </tr>\n",
       "    <tr>\n",
       "      <th>Athlete</th>\n",
       "      <td>30</td>\n",
       "      <td>0.0</td>\n",
       "    </tr>\n",
       "    <tr>\n",
       "      <th>Building</th>\n",
       "      <td>38</td>\n",
       "      <td>46.0</td>\n",
       "    </tr>\n",
       "    <tr>\n",
       "      <th>CelestialBody</th>\n",
       "      <td>25</td>\n",
       "      <td>0.0</td>\n",
       "    </tr>\n",
       "    <tr>\n",
       "      <th>City</th>\n",
       "      <td>19</td>\n",
       "      <td>23.0</td>\n",
       "    </tr>\n",
       "    <tr>\n",
       "      <th>ComicsCharacter</th>\n",
       "      <td>16</td>\n",
       "      <td>19.0</td>\n",
       "    </tr>\n",
       "    <tr>\n",
       "      <th>Food</th>\n",
       "      <td>20</td>\n",
       "      <td>34.0</td>\n",
       "    </tr>\n",
       "    <tr>\n",
       "      <th>MeanOfTransportation</th>\n",
       "      <td>66</td>\n",
       "      <td>0.0</td>\n",
       "    </tr>\n",
       "    <tr>\n",
       "      <th>Monument</th>\n",
       "      <td>24</td>\n",
       "      <td>30.0</td>\n",
       "    </tr>\n",
       "    <tr>\n",
       "      <th>Politician</th>\n",
       "      <td>42</td>\n",
       "      <td>0.0</td>\n",
       "    </tr>\n",
       "    <tr>\n",
       "      <th>SportsTeam</th>\n",
       "      <td>25</td>\n",
       "      <td>31.0</td>\n",
       "    </tr>\n",
       "    <tr>\n",
       "      <th>University</th>\n",
       "      <td>35</td>\n",
       "      <td>41.0</td>\n",
       "    </tr>\n",
       "    <tr>\n",
       "      <th>WrittenWork</th>\n",
       "      <td>36</td>\n",
       "      <td>50.0</td>\n",
       "    </tr>\n",
       "  </tbody>\n",
       "</table>\n",
       "</div>"
      ],
      "text/plain": [
       "                      test  train_dev\n",
       "Airport                 34       52.0\n",
       "Artist                  28        0.0\n",
       "Astronaut               27       38.0\n",
       "Athlete                 30        0.0\n",
       "Building                38       46.0\n",
       "CelestialBody           25        0.0\n",
       "City                    19       23.0\n",
       "ComicsCharacter         16       19.0\n",
       "Food                    20       34.0\n",
       "MeanOfTransportation    66        0.0\n",
       "Monument                24       30.0\n",
       "Politician              42        0.0\n",
       "SportsTeam              25       31.0\n",
       "University              35       41.0\n",
       "WrittenWork             36       50.0"
      ]
     },
     "execution_count": 18,
     "metadata": {},
     "output_type": "execute_result"
    }
   ],
   "source": [
    "# number of unique properties\n",
    "\n",
    "pd.concat({\n",
    "    'train_dev': train_dev.as_pandas.mdf.groupby('category').predicate.nunique(),\n",
    "    'test': test.as_pandas.mdf.groupby('category').predicate.nunique()\n",
    "}, axis=1, sort=True, copy=False).fillna(0)"
   ]
  },
  {
   "cell_type": "code",
   "execution_count": 19,
   "metadata": {},
   "outputs": [
    {
     "data": {
      "text/html": [
       "<div>\n",
       "<style scoped>\n",
       "    .dataframe tbody tr th:only-of-type {\n",
       "        vertical-align: middle;\n",
       "    }\n",
       "\n",
       "    .dataframe tbody tr th {\n",
       "        vertical-align: top;\n",
       "    }\n",
       "\n",
       "    .dataframe thead th {\n",
       "        text-align: right;\n",
       "    }\n",
       "</style>\n",
       "<table border=\"1\" class=\"dataframe\">\n",
       "  <thead>\n",
       "    <tr style=\"text-align: right;\">\n",
       "      <th></th>\n",
       "      <th>test</th>\n",
       "      <th>train_dev</th>\n",
       "    </tr>\n",
       "  </thead>\n",
       "  <tbody>\n",
       "    <tr>\n",
       "      <th>Airport</th>\n",
       "      <td>54</td>\n",
       "      <td>69.0</td>\n",
       "    </tr>\n",
       "    <tr>\n",
       "      <th>Artist</th>\n",
       "      <td>50</td>\n",
       "      <td>0.0</td>\n",
       "    </tr>\n",
       "    <tr>\n",
       "      <th>Astronaut</th>\n",
       "      <td>16</td>\n",
       "      <td>18.0</td>\n",
       "    </tr>\n",
       "    <tr>\n",
       "      <th>Athlete</th>\n",
       "      <td>60</td>\n",
       "      <td>0.0</td>\n",
       "    </tr>\n",
       "    <tr>\n",
       "      <th>Building</th>\n",
       "      <td>53</td>\n",
       "      <td>59.0</td>\n",
       "    </tr>\n",
       "    <tr>\n",
       "      <th>CelestialBody</th>\n",
       "      <td>21</td>\n",
       "      <td>0.0</td>\n",
       "    </tr>\n",
       "    <tr>\n",
       "      <th>City</th>\n",
       "      <td>48</td>\n",
       "      <td>66.0</td>\n",
       "    </tr>\n",
       "    <tr>\n",
       "      <th>ComicsCharacter</th>\n",
       "      <td>21</td>\n",
       "      <td>44.0</td>\n",
       "    </tr>\n",
       "    <tr>\n",
       "      <th>Food</th>\n",
       "      <td>51</td>\n",
       "      <td>60.0</td>\n",
       "    </tr>\n",
       "    <tr>\n",
       "      <th>MeanOfTransportation</th>\n",
       "      <td>51</td>\n",
       "      <td>0.0</td>\n",
       "    </tr>\n",
       "    <tr>\n",
       "      <th>Monument</th>\n",
       "      <td>8</td>\n",
       "      <td>10.0</td>\n",
       "    </tr>\n",
       "    <tr>\n",
       "      <th>Politician</th>\n",
       "      <td>61</td>\n",
       "      <td>0.0</td>\n",
       "    </tr>\n",
       "    <tr>\n",
       "      <th>SportsTeam</th>\n",
       "      <td>47</td>\n",
       "      <td>56.0</td>\n",
       "    </tr>\n",
       "    <tr>\n",
       "      <th>University</th>\n",
       "      <td>18</td>\n",
       "      <td>19.0</td>\n",
       "    </tr>\n",
       "    <tr>\n",
       "      <th>WrittenWork</th>\n",
       "      <td>43</td>\n",
       "      <td>55.0</td>\n",
       "    </tr>\n",
       "  </tbody>\n",
       "</table>\n",
       "</div>"
      ],
      "text/plain": [
       "                      test  train_dev\n",
       "Airport                 54       69.0\n",
       "Artist                  50        0.0\n",
       "Astronaut               16       18.0\n",
       "Athlete                 60        0.0\n",
       "Building                53       59.0\n",
       "CelestialBody           21        0.0\n",
       "City                    48       66.0\n",
       "ComicsCharacter         21       44.0\n",
       "Food                    51       60.0\n",
       "MeanOfTransportation    51        0.0\n",
       "Monument                 8       10.0\n",
       "Politician              61        0.0\n",
       "SportsTeam              47       56.0\n",
       "University              18       19.0\n",
       "WrittenWork             43       55.0"
      ]
     },
     "execution_count": 19,
     "metadata": {},
     "output_type": "execute_result"
    }
   ],
   "source": [
    "# number of unique subjects\n",
    "\n",
    "pd.concat({\n",
    "    'train_dev': train_dev.as_pandas.mdf.groupby('category').subject.nunique(),\n",
    "    'test': test.as_pandas.mdf.groupby('category').subject.nunique()\n",
    "}, axis=1, sort=True, copy=False).fillna(0)"
   ]
  },
  {
   "cell_type": "code",
   "execution_count": 20,
   "metadata": {},
   "outputs": [
    {
     "data": {
      "text/html": [
       "<div>\n",
       "<style scoped>\n",
       "    .dataframe tbody tr th:only-of-type {\n",
       "        vertical-align: middle;\n",
       "    }\n",
       "\n",
       "    .dataframe tbody tr th {\n",
       "        vertical-align: top;\n",
       "    }\n",
       "\n",
       "    .dataframe thead th {\n",
       "        text-align: right;\n",
       "    }\n",
       "</style>\n",
       "<table border=\"1\" class=\"dataframe\">\n",
       "  <thead>\n",
       "    <tr style=\"text-align: right;\">\n",
       "      <th></th>\n",
       "      <th>test</th>\n",
       "      <th>train_dev</th>\n",
       "    </tr>\n",
       "  </thead>\n",
       "  <tbody>\n",
       "    <tr>\n",
       "      <th>Airport</th>\n",
       "      <td>178</td>\n",
       "      <td>305.0</td>\n",
       "    </tr>\n",
       "    <tr>\n",
       "      <th>Artist</th>\n",
       "      <td>194</td>\n",
       "      <td>0.0</td>\n",
       "    </tr>\n",
       "    <tr>\n",
       "      <th>Astronaut</th>\n",
       "      <td>56</td>\n",
       "      <td>71.0</td>\n",
       "    </tr>\n",
       "    <tr>\n",
       "      <th>Athlete</th>\n",
       "      <td>183</td>\n",
       "      <td>0.0</td>\n",
       "    </tr>\n",
       "    <tr>\n",
       "      <th>Building</th>\n",
       "      <td>172</td>\n",
       "      <td>258.0</td>\n",
       "    </tr>\n",
       "    <tr>\n",
       "      <th>CelestialBody</th>\n",
       "      <td>119</td>\n",
       "      <td>0.0</td>\n",
       "    </tr>\n",
       "    <tr>\n",
       "      <th>City</th>\n",
       "      <td>116</td>\n",
       "      <td>186.0</td>\n",
       "    </tr>\n",
       "    <tr>\n",
       "      <th>ComicsCharacter</th>\n",
       "      <td>44</td>\n",
       "      <td>97.0</td>\n",
       "    </tr>\n",
       "    <tr>\n",
       "      <th>Food</th>\n",
       "      <td>192</td>\n",
       "      <td>276.0</td>\n",
       "    </tr>\n",
       "    <tr>\n",
       "      <th>MeanOfTransportation</th>\n",
       "      <td>203</td>\n",
       "      <td>0.0</td>\n",
       "    </tr>\n",
       "    <tr>\n",
       "      <th>Monument</th>\n",
       "      <td>34</td>\n",
       "      <td>42.0</td>\n",
       "    </tr>\n",
       "    <tr>\n",
       "      <th>Politician</th>\n",
       "      <td>222</td>\n",
       "      <td>0.0</td>\n",
       "    </tr>\n",
       "    <tr>\n",
       "      <th>SportsTeam</th>\n",
       "      <td>136</td>\n",
       "      <td>256.0</td>\n",
       "    </tr>\n",
       "    <tr>\n",
       "      <th>University</th>\n",
       "      <td>59</td>\n",
       "      <td>70.0</td>\n",
       "    </tr>\n",
       "    <tr>\n",
       "      <th>WrittenWork</th>\n",
       "      <td>124</td>\n",
       "      <td>210.0</td>\n",
       "    </tr>\n",
       "  </tbody>\n",
       "</table>\n",
       "</div>"
      ],
      "text/plain": [
       "                      test  train_dev\n",
       "Airport                178      305.0\n",
       "Artist                 194        0.0\n",
       "Astronaut               56       71.0\n",
       "Athlete                183        0.0\n",
       "Building               172      258.0\n",
       "CelestialBody          119        0.0\n",
       "City                   116      186.0\n",
       "ComicsCharacter         44       97.0\n",
       "Food                   192      276.0\n",
       "MeanOfTransportation   203        0.0\n",
       "Monument                34       42.0\n",
       "Politician             222        0.0\n",
       "SportsTeam             136      256.0\n",
       "University              59       70.0\n",
       "WrittenWork            124      210.0"
      ]
     },
     "execution_count": 20,
     "metadata": {},
     "output_type": "execute_result"
    }
   ],
   "source": [
    "# number of unique subjects\n",
    "\n",
    "pd.concat({\n",
    "    'train_dev': train_dev.as_pandas.mdf.groupby('category').object.nunique(),\n",
    "    'test': test.as_pandas.mdf.groupby('category').object.nunique()\n",
    "}, axis=1, sort=True, copy=False).fillna(0)"
   ]
  },
  {
   "cell_type": "markdown",
   "metadata": {},
   "source": [
    "# TODO\n",
    "\n",
    " 6. which dbpedia entities are described and their count per category (info from here) - by 'described' do you mean it appearing as a subject in one triple? So 'Brazil' is being described in <Brazil, is, country>, but not in <Abelardo, lives_in, Brazil>?\n",
    "Those entities are not only subjects, but more importantly roots of the trees in WebNLG.\n",
    "\n",
    "\n",
    "Then explain and show that each input is a tree.\n",
    "            1. n of tree types (sibling, mixed, chain), examples - is this the attribute shape_type added to the v2 release, right?\n",
    "Yes, it is that attribute. Please use the final release for your statistics. Then you can make another notebook for the challenge data.\n",
    "\n",
    "\n",
    "            2. n of tree shapes -  and this the attribute shape?\n",
    "yes, in the v2 release.\n",
    "\n",
    "\n",
    "\n",
    "Vocabulary\n",
    "            1. n of tokens\n",
    "\n",
    "            2. n of types\n",
    "\n",
    "            3. distribution of 1. and 2. per size."
   ]
  }
 ],
 "metadata": {
  "kernelspec": {
   "display_name": "Python 3",
   "language": "python",
   "name": "python3"
  },
  "language_info": {
   "codemirror_mode": {
    "name": "ipython",
    "version": 3
   },
   "file_extension": ".py",
   "mimetype": "text/x-python",
   "name": "python",
   "nbconvert_exporter": "python",
   "pygments_lexer": "ipython3",
   "version": "3.6.7"
  }
 },
 "nbformat": 4,
 "nbformat_minor": 2
}

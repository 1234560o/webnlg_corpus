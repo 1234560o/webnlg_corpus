{
 "cells": [
  {
   "cell_type": "markdown",
   "metadata": {},
   "source": [
    "# WebNLG Corpus Documentation\n",
    "This notebook explains the structure of the WebNLG corpus and gives some corpus descriptive statistics. All of that is illustrated by the means of the `webnlg_corpus` PyPi package.\n",
    "\n",
    "## Installing Corpus Access Library\n",
    "The `webnlg_corpus` PyPi package provides API to interact with XML WebNLG files: https://gitlab.com/shimorina/webnlg-dataset"
   ]
  },
  {
   "cell_type": "code",
   "execution_count": 15,
   "metadata": {},
   "outputs": [
    {
     "name": "stdout",
     "output_type": "stream",
     "text": [
      "Requirement already satisfied: webnlg_corpus==0.1.dev10 in /home/anastasia/.local/lib/python3.6/site-packages (0.1.dev10)\n",
      "Requirement already satisfied: pandas in /home/anastasia/.local/lib/python3.6/site-packages (from webnlg_corpus==0.1.dev10) (0.24.0)\n",
      "Requirement already satisfied: tinydb in /home/anastasia/.local/lib/python3.6/site-packages (from webnlg_corpus==0.1.dev10) (3.13.0)\n",
      "Requirement already satisfied: pytz>=2011k in /usr/lib/python3/dist-packages (from pandas->webnlg_corpus==0.1.dev10) (2018.3)\n",
      "Requirement already satisfied: python-dateutil>=2.5.0 in /usr/lib/python3/dist-packages (from pandas->webnlg_corpus==0.1.dev10) (2.6.1)\n",
      "Requirement already satisfied: numpy>=1.12.0 in /home/anastasia/.local/lib/python3.6/site-packages (from pandas->webnlg_corpus==0.1.dev10) (1.16.1)\n",
      "\u001b[33mYou are using pip version 19.0.3, however version 19.1 is available.\n",
      "You should consider upgrading via the 'pip install --upgrade pip' command.\u001b[0m\n"
     ]
    }
   ],
   "source": [
    "!pip install webnlg_corpus==0.1.dev10"
   ]
  },
  {
   "cell_type": "code",
   "execution_count": 4,
   "metadata": {},
   "outputs": [
    {
     "name": "stdout",
     "output_type": "stream",
     "text": [
      "Name: webnlg-corpus\r\n",
      "Version: 0.1.dev10\r\n",
      "Summary: WebNLG Corpus\r\n",
      "Home-page: https://github.com/abevieiramota/webnlg_corpus\r\n",
      "Author: Abelardo Vieira Mota\r\n",
      "Author-email: abevieiramota@gmail.com\r\n",
      "License: CC BY-NC-SA 4.0\r\n",
      "Location: /home/anastasia/.local/lib/python3.6/site-packages\r\n",
      "Requires: tinydb, pandas\r\n",
      "Required-by: \r\n"
     ]
    }
   ],
   "source": [
    "!pip show webnlg_corpus"
   ]
  },
  {
   "cell_type": "markdown",
   "metadata": {},
   "source": [
    "## Downloading Corpus Releases"
   ]
  },
  {
   "cell_type": "markdown",
   "metadata": {},
   "source": [
    "### Currently available releases"
   ]
  },
  {
   "cell_type": "code",
   "execution_count": 1,
   "metadata": {},
   "outputs": [
    {
     "data": {
      "text/plain": [
       "dict_keys(['webnlg_challenge_2017', 'release_v2', 'release_v2_constrained'])"
      ]
     },
     "execution_count": 1,
     "metadata": {},
     "output_type": "execute_result"
    }
   ],
   "source": [
    "from webnlg_corpus import config\n",
    "\n",
    "config.RELEASES_URLS.keys()"
   ]
  },
  {
   "cell_type": "markdown",
   "metadata": {},
   "source": [
    "Currently there are three releases available. The release history is described [here](https://gitlab.com/shimorina/webnlg-dataset).\n",
    "\n",
    "### Downloading the release used in the WebNLG challenge"
   ]
  },
  {
   "cell_type": "code",
   "execution_count": 2,
   "metadata": {},
   "outputs": [],
   "source": [
    "from webnlg_corpus import downloader\n",
    "\n",
    "# force=True overrides previous release download\n",
    "downloader.download('webnlg_challenge_2017', force=True)"
   ]
  },
  {
   "cell_type": "code",
   "execution_count": 3,
   "metadata": {},
   "outputs": [],
   "source": [
    "# download the last version (v2)\n",
    "downloader.download('release_v2', force=True)"
   ]
  },
  {
   "cell_type": "code",
   "execution_count": 4,
   "metadata": {},
   "outputs": [
    {
     "data": {
      "text/plain": [
       "'/home/anastasia/webnlg_data'"
      ]
     },
     "execution_count": 4,
     "metadata": {},
     "output_type": "execute_result"
    }
   ],
   "source": [
    "downloader.default_download_dir()"
   ]
  },
  {
   "cell_type": "markdown",
   "metadata": {},
   "source": [
    "## Explaining WebNLG Structure"
   ]
  },
  {
   "cell_type": "markdown",
   "metadata": {},
   "source": [
    "### Loading the corpus into memory"
   ]
  },
  {
   "cell_type": "code",
   "execution_count": 5,
   "metadata": {},
   "outputs": [],
   "source": [
    "from webnlg_corpus import webnlg\n",
    "\n",
    "corpus = webnlg.load('release_v2')"
   ]
  },
  {
   "cell_type": "markdown",
   "metadata": {},
   "source": [
    "### Looking at some examples"
   ]
  },
  {
   "cell_type": "markdown",
   "metadata": {},
   "source": [
    "You can select a corpus instance (called _entry_) with `corpus.sample`."
   ]
  },
  {
   "cell_type": "code",
   "execution_count": 13,
   "metadata": {},
   "outputs": [
    {
     "data": {
      "text/plain": [
       "Triple info: Category=City eid=Id80 idx=train_City_4_Id80\n",
       "\n",
       "\tModified Triples:\n",
       "\n",
       "Antioch,_California | populationTotal | 102372\n",
       "Antioch,_California | UTCOffset | \"-8\"\n",
       "Antioch,_California | areaCode | 925\n",
       "Antioch,_California | areaTotal | 75.324 (square kilometres)\n",
       "\n",
       "\n",
       "\tLexicalizations:\n",
       "\n",
       "Antioch in California has a population of 102,372 and covers an area of 75.324 square kilometres. The area code for Antioch is 925 and the UTC offset is -8.\n",
       "\n",
       "\n",
       "The population of Antioch, California is 102372 and the UTC offset is -8. Antioch has the area code 925 and its total area is 75.324 square km.\n"
      ]
     },
     "execution_count": 13,
     "metadata": {},
     "output_type": "execute_result"
    }
   ],
   "source": [
    "# set random seed to 1 to get the same corpus instance across different runs\n",
    "# look only in the training data. For including other parts, use ['dev', 'test']\n",
    "corpus.sample(seed=1, datasets=['train'])\n",
    "\n",
    "# TODO: need to add odf to the sample method as well; triple info should be entry info"
   ]
  },
  {
   "cell_type": "markdown",
   "metadata": {},
   "source": [
    "### Understanding an entry\n",
    "\n",
    "WebNLG consists of Data/Text pairs where the data is a set of RDF triples extracted from DBpedia and the text is a verbalisation of these triples in English.\n",
    "\n",
    "Each entry contains:\n",
    "\n",
    "* **Modified Triples**: a set of RDF triples that should be verbalised. They are a modification of the triples extracted from DBpedia. More about it here: http://webnlg.loria.fr/pages/docs.html\n",
    "\n",
    "* **Original Triples**: todo\n",
    "\n",
    "* **Category**: a DBpedia type of entity (e.g., [Astronaut](http://dbpedia.org/ontology/Astronaut)), a.k.a. the main topic of the entry input data\n",
    "\n",
    "* **Lexicalisations**: texts in English, verbalising the triples\n",
    "\n",
    "* **eid**: an entry identifier in the XML file\n",
    "\n",
    "* **idx**: an entry identifier in the release. Its structure is: {dataset part}\\_{category}\\_{number of triples}\\_{eid}"
   ]
  },
  {
   "cell_type": "markdown",
   "metadata": {},
   "source": [
    "Each RDF triple has a (_subject, property, object_) structure.\n",
    "\n",
    "For example, in the triple _Antioch,_\\__California | populationTotal | 102372_\n",
    "* _Antioch,_\\__California_ is a subject,\n",
    "* _populationTotal_ is a property,\n",
    "* _102372_ is an object.\n",
    "\n",
    "The number of triples in the input data can vary from 1 to 7."
   ]
  },
  {
   "cell_type": "code",
   "execution_count": 14,
   "metadata": {},
   "outputs": [
    {
     "data": {
      "text/plain": [
       "Triple info: Category=Astronaut eid=Id9 idx=train_Astronaut_7_Id9\n",
       "\n",
       "\tModified Triples:\n",
       "\n",
       "Alan_Bean | nationality | United_States\n",
       "Alan_Bean | occupation | Test_pilot\n",
       "Alan_Bean | birthDate | \"1932-03-15\"\n",
       "Alan_Bean | was a crew member of | Apollo_12\n",
       "Alan_Bean | birthPlace | Wheeler,_Texas\n",
       "Alan_Bean | timeInSpace | \"100305.0\"(minutes)\n",
       "Alan_Bean | status | \"Retired\"\n",
       "\n",
       "\n",
       "\tLexicalizations:\n",
       "\n",
       "Alan Bean is a US national who was born in Wheeler, Texas on the 15th March 1932. He was a test pilot and crew member of Apollo 12. He spent 100305 minutes in space.\n",
       "\n",
       "\n",
       "Alan Bean is a United States test pilot. He was born on March 15, 1932 in Wheeler, Texas. Alan Bean retired after spending 100305 minutes in space, he was also a crew member of Apollo 12.\n"
      ]
     },
     "execution_count": 14,
     "metadata": {},
     "output_type": "execute_result"
    }
   ],
   "source": [
    "# let's look at 7 triples only\n",
    "corpus.sample(seed=1, ntriples=[7], datasets=['train'])"
   ]
  },
  {
   "cell_type": "markdown",
   "metadata": {},
   "source": [
    "WebNLG covers 15 DBpedia categories:"
   ]
  },
  {
   "cell_type": "code",
   "execution_count": null,
   "metadata": {},
   "outputs": [],
   "source": [
    "# todo: add method to show all DBpedia categories covered (Monument, Food, etc...)"
   ]
  },
  {
   "cell_type": "markdown",
   "metadata": {},
   "source": [
    "In each category, WebNLG covers 5 entities (Astronaut, Monument, University) or 20 entities (all other categories)."
   ]
  },
  {
   "cell_type": "code",
   "execution_count": null,
   "metadata": {},
   "outputs": [],
   "source": [
    "# todo: show entities (roots of trees)"
   ]
  },
  {
   "cell_type": "markdown",
   "metadata": {},
   "source": [
    "## Calculating Some Corpus Statistics"
   ]
  },
  {
   "cell_type": "code",
   "execution_count": 24,
   "metadata": {},
   "outputs": [],
   "source": [
    "import pandas as pd\n",
    "\n",
    "train_dev = corpus.subset(datasets=['train', 'dev'])\n",
    "test = corpus.subset(datasets=['test'])"
   ]
  },
  {
   "cell_type": "code",
   "execution_count": 29,
   "metadata": {},
   "outputs": [],
   "source": [
    "# todo: would be nice to add all corpus (train+dev+test) to the calculations below as well"
   ]
  },
  {
   "cell_type": "code",
   "execution_count": 41,
   "metadata": {},
   "outputs": [
    {
     "data": {
      "text/plain": [
       "{'train_dev': 3776, 'test': 2146}"
      ]
     },
     "execution_count": 41,
     "metadata": {},
     "output_type": "execute_result"
    }
   ],
   "source": [
    "# number of unique triples\n",
    "\n",
    "{\n",
    "    'train_dev': train_dev.as_pandas.mdf.text.nunique(),\n",
    "    'test': test.as_pandas.mdf.text.nunique()\n",
    "}"
   ]
  },
  {
   "cell_type": "code",
   "execution_count": 42,
   "metadata": {},
   "outputs": [],
   "source": [
    "# todo: we also need a number of unique data inputs (i.e. unique sets of triples)"
   ]
  },
  {
   "cell_type": "code",
   "execution_count": 43,
   "metadata": {},
   "outputs": [
    {
     "data": {
      "text/plain": [
       "{'train_dev': 38668, 'test': 4224}"
      ]
     },
     "execution_count": 43,
     "metadata": {},
     "output_type": "execute_result"
    }
   ],
   "source": [
    "# number of lexicalizations\n",
    "\n",
    "{\n",
    "    'train_dev': len(train_dev.as_pandas.ldf),\n",
    "    'test': len(test.as_pandas.ldf)\n",
    "}"
   ]
  },
  {
   "cell_type": "code",
   "execution_count": 44,
   "metadata": {},
   "outputs": [
    {
     "data": {
      "text/plain": [
       "{'train_dev': 373, 'test': 291}"
      ]
     },
     "execution_count": 44,
     "metadata": {},
     "output_type": "execute_result"
    }
   ],
   "source": [
    "# number of unique properties\n",
    "\n",
    "{\n",
    "    'train_dev': train_dev.as_pandas.mdf.predicate.nunique(),\n",
    "    'test': test.as_pandas.mdf.predicate.nunique()\n",
    "}"
   ]
  },
  {
   "cell_type": "code",
   "execution_count": 45,
   "metadata": {},
   "outputs": [
    {
     "data": {
      "text/plain": [
       "{'train_dev': 731, 'test': 558}"
      ]
     },
     "execution_count": 45,
     "metadata": {},
     "output_type": "execute_result"
    }
   ],
   "source": [
    "# number of unique subjects\n",
    "\n",
    "{\n",
    "    'train_dev': train_dev.as_pandas.mdf.subject.nunique(),\n",
    "    'test': test.as_pandas.mdf.subject.nunique()\n",
    "}"
   ]
  },
  {
   "cell_type": "code",
   "execution_count": 40,
   "metadata": {},
   "outputs": [
    {
     "data": {
      "text/plain": [
       "{'train_dev': 2909, 'test': 1745}"
      ]
     },
     "execution_count": 40,
     "metadata": {},
     "output_type": "execute_result"
    }
   ],
   "source": [
    "# number of unique objects\n",
    "\n",
    "{\n",
    "    'train_dev': train_dev.as_pandas.mdf.object.nunique(),\n",
    "    'test': test.as_pandas.mdf.object.nunique()\n",
    "}"
   ]
  },
  {
   "cell_type": "markdown",
   "metadata": {},
   "source": [
    "### per category"
   ]
  },
  {
   "cell_type": "code",
   "execution_count": null,
   "metadata": {},
   "outputs": [],
   "source": [
    "# distribution of above per category"
   ]
  },
  {
   "cell_type": "code",
   "execution_count": 31,
   "metadata": {},
   "outputs": [
    {
     "data": {
      "text/html": [
       "<div>\n",
       "<style scoped>\n",
       "    .dataframe tbody tr th:only-of-type {\n",
       "        vertical-align: middle;\n",
       "    }\n",
       "\n",
       "    .dataframe tbody tr th {\n",
       "        vertical-align: top;\n",
       "    }\n",
       "\n",
       "    .dataframe thead th {\n",
       "        text-align: right;\n",
       "    }\n",
       "</style>\n",
       "<table border=\"1\" class=\"dataframe\">\n",
       "  <thead>\n",
       "    <tr style=\"text-align: right;\">\n",
       "      <th></th>\n",
       "      <th>test</th>\n",
       "      <th>train_dev</th>\n",
       "    </tr>\n",
       "    <tr>\n",
       "      <th>category</th>\n",
       "      <th></th>\n",
       "      <th></th>\n",
       "    </tr>\n",
       "  </thead>\n",
       "  <tbody>\n",
       "    <tr>\n",
       "      <th>Airport</th>\n",
       "      <td>197</td>\n",
       "      <td>376</td>\n",
       "    </tr>\n",
       "    <tr>\n",
       "      <th>Artist</th>\n",
       "      <td>209</td>\n",
       "      <td>345</td>\n",
       "    </tr>\n",
       "    <tr>\n",
       "      <th>Astronaut</th>\n",
       "      <td>71</td>\n",
       "      <td>90</td>\n",
       "    </tr>\n",
       "    <tr>\n",
       "      <th>Athlete</th>\n",
       "      <td>177</td>\n",
       "      <td>352</td>\n",
       "    </tr>\n",
       "    <tr>\n",
       "      <th>Building</th>\n",
       "      <td>190</td>\n",
       "      <td>295</td>\n",
       "    </tr>\n",
       "    <tr>\n",
       "      <th>CelestialBody</th>\n",
       "      <td>104</td>\n",
       "      <td>211</td>\n",
       "    </tr>\n",
       "    <tr>\n",
       "      <th>City</th>\n",
       "      <td>161</td>\n",
       "      <td>302</td>\n",
       "    </tr>\n",
       "    <tr>\n",
       "      <th>ComicsCharacter</th>\n",
       "      <td>46</td>\n",
       "      <td>120</td>\n",
       "    </tr>\n",
       "    <tr>\n",
       "      <th>Food</th>\n",
       "      <td>225</td>\n",
       "      <td>340</td>\n",
       "    </tr>\n",
       "    <tr>\n",
       "      <th>MeanOfTransportation</th>\n",
       "      <td>195</td>\n",
       "      <td>372</td>\n",
       "    </tr>\n",
       "    <tr>\n",
       "      <th>Monument</th>\n",
       "      <td>38</td>\n",
       "      <td>48</td>\n",
       "    </tr>\n",
       "    <tr>\n",
       "      <th>Politician</th>\n",
       "      <td>214</td>\n",
       "      <td>375</td>\n",
       "    </tr>\n",
       "    <tr>\n",
       "      <th>SportsTeam</th>\n",
       "      <td>151</td>\n",
       "      <td>312</td>\n",
       "    </tr>\n",
       "    <tr>\n",
       "      <th>University</th>\n",
       "      <td>61</td>\n",
       "      <td>72</td>\n",
       "    </tr>\n",
       "    <tr>\n",
       "      <th>WrittenWork</th>\n",
       "      <td>158</td>\n",
       "      <td>271</td>\n",
       "    </tr>\n",
       "  </tbody>\n",
       "</table>\n",
       "</div>"
      ],
      "text/plain": [
       "                      test  train_dev\n",
       "category                             \n",
       "Airport                197        376\n",
       "Artist                 209        345\n",
       "Astronaut               71         90\n",
       "Athlete                177        352\n",
       "Building               190        295\n",
       "CelestialBody          104        211\n",
       "City                   161        302\n",
       "ComicsCharacter         46        120\n",
       "Food                   225        340\n",
       "MeanOfTransportation   195        372\n",
       "Monument                38         48\n",
       "Politician             214        375\n",
       "SportsTeam             151        312\n",
       "University              61         72\n",
       "WrittenWork            158        271"
      ]
     },
     "execution_count": 31,
     "metadata": {},
     "output_type": "execute_result"
    }
   ],
   "source": [
    "# number of unique triples\n",
    "\n",
    "pd.concat({\n",
    "    'train_dev': train_dev.as_pandas.mdf.groupby('category').text.nunique(),\n",
    "    'test': test.as_pandas.mdf.groupby('category').text.nunique()\n",
    "}, axis=1, sort=True, copy=False).fillna(0)"
   ]
  },
  {
   "cell_type": "code",
   "execution_count": 32,
   "metadata": {},
   "outputs": [
    {
     "data": {
      "text/html": [
       "<div>\n",
       "<style scoped>\n",
       "    .dataframe tbody tr th:only-of-type {\n",
       "        vertical-align: middle;\n",
       "    }\n",
       "\n",
       "    .dataframe tbody tr th {\n",
       "        vertical-align: top;\n",
       "    }\n",
       "\n",
       "    .dataframe thead th {\n",
       "        text-align: right;\n",
       "    }\n",
       "</style>\n",
       "<table border=\"1\" class=\"dataframe\">\n",
       "  <thead>\n",
       "    <tr style=\"text-align: right;\">\n",
       "      <th></th>\n",
       "      <th>test</th>\n",
       "      <th>train_dev</th>\n",
       "    </tr>\n",
       "  </thead>\n",
       "  <tbody>\n",
       "    <tr>\n",
       "      <th>Airport</th>\n",
       "      <td>351</td>\n",
       "      <td>3157</td>\n",
       "    </tr>\n",
       "    <tr>\n",
       "      <th>Artist</th>\n",
       "      <td>429</td>\n",
       "      <td>3832</td>\n",
       "    </tr>\n",
       "    <tr>\n",
       "      <th>Astronaut</th>\n",
       "      <td>174</td>\n",
       "      <td>1718</td>\n",
       "    </tr>\n",
       "    <tr>\n",
       "      <th>Athlete</th>\n",
       "      <td>304</td>\n",
       "      <td>2773</td>\n",
       "    </tr>\n",
       "    <tr>\n",
       "      <th>Building</th>\n",
       "      <td>285</td>\n",
       "      <td>2677</td>\n",
       "    </tr>\n",
       "    <tr>\n",
       "      <th>CelestialBody</th>\n",
       "      <td>209</td>\n",
       "      <td>1908</td>\n",
       "    </tr>\n",
       "    <tr>\n",
       "      <th>City</th>\n",
       "      <td>367</td>\n",
       "      <td>3392</td>\n",
       "    </tr>\n",
       "    <tr>\n",
       "      <th>ComicsCharacter</th>\n",
       "      <td>88</td>\n",
       "      <td>849</td>\n",
       "    </tr>\n",
       "    <tr>\n",
       "      <th>Food</th>\n",
       "      <td>463</td>\n",
       "      <td>4075</td>\n",
       "    </tr>\n",
       "    <tr>\n",
       "      <th>MeanOfTransportation</th>\n",
       "      <td>387</td>\n",
       "      <td>3492</td>\n",
       "    </tr>\n",
       "    <tr>\n",
       "      <th>Monument</th>\n",
       "      <td>95</td>\n",
       "      <td>881</td>\n",
       "    </tr>\n",
       "    <tr>\n",
       "      <th>Politician</th>\n",
       "      <td>399</td>\n",
       "      <td>3631</td>\n",
       "    </tr>\n",
       "    <tr>\n",
       "      <th>SportsTeam</th>\n",
       "      <td>244</td>\n",
       "      <td>2247</td>\n",
       "    </tr>\n",
       "    <tr>\n",
       "      <th>University</th>\n",
       "      <td>126</td>\n",
       "      <td>1254</td>\n",
       "    </tr>\n",
       "    <tr>\n",
       "      <th>WrittenWork</th>\n",
       "      <td>303</td>\n",
       "      <td>2782</td>\n",
       "    </tr>\n",
       "  </tbody>\n",
       "</table>\n",
       "</div>"
      ],
      "text/plain": [
       "                      test  train_dev\n",
       "Airport                351       3157\n",
       "Artist                 429       3832\n",
       "Astronaut              174       1718\n",
       "Athlete                304       2773\n",
       "Building               285       2677\n",
       "CelestialBody          209       1908\n",
       "City                   367       3392\n",
       "ComicsCharacter         88        849\n",
       "Food                   463       4075\n",
       "MeanOfTransportation   387       3492\n",
       "Monument                95        881\n",
       "Politician             399       3631\n",
       "SportsTeam             244       2247\n",
       "University             126       1254\n",
       "WrittenWork            303       2782"
      ]
     },
     "execution_count": 32,
     "metadata": {},
     "output_type": "execute_result"
    }
   ],
   "source": [
    "# number of lexicalizations\n",
    "\n",
    "pd.concat({\n",
    "    'train_dev': train_dev.as_pandas.ldf.category.value_counts(),\n",
    "    'test': test.as_pandas.ldf.category.value_counts()\n",
    "}, axis=1, sort=True, copy=False).fillna(0)"
   ]
  },
  {
   "cell_type": "code",
   "execution_count": 33,
   "metadata": {},
   "outputs": [
    {
     "data": {
      "text/html": [
       "<div>\n",
       "<style scoped>\n",
       "    .dataframe tbody tr th:only-of-type {\n",
       "        vertical-align: middle;\n",
       "    }\n",
       "\n",
       "    .dataframe tbody tr th {\n",
       "        vertical-align: top;\n",
       "    }\n",
       "\n",
       "    .dataframe thead th {\n",
       "        text-align: right;\n",
       "    }\n",
       "</style>\n",
       "<table border=\"1\" class=\"dataframe\">\n",
       "  <thead>\n",
       "    <tr style=\"text-align: right;\">\n",
       "      <th></th>\n",
       "      <th>test</th>\n",
       "      <th>train_dev</th>\n",
       "    </tr>\n",
       "    <tr>\n",
       "      <th>category</th>\n",
       "      <th></th>\n",
       "      <th></th>\n",
       "    </tr>\n",
       "  </thead>\n",
       "  <tbody>\n",
       "    <tr>\n",
       "      <th>Airport</th>\n",
       "      <td>34</td>\n",
       "      <td>52</td>\n",
       "    </tr>\n",
       "    <tr>\n",
       "      <th>Artist</th>\n",
       "      <td>26</td>\n",
       "      <td>37</td>\n",
       "    </tr>\n",
       "    <tr>\n",
       "      <th>Astronaut</th>\n",
       "      <td>27</td>\n",
       "      <td>38</td>\n",
       "    </tr>\n",
       "    <tr>\n",
       "      <th>Athlete</th>\n",
       "      <td>28</td>\n",
       "      <td>42</td>\n",
       "    </tr>\n",
       "    <tr>\n",
       "      <th>Building</th>\n",
       "      <td>38</td>\n",
       "      <td>46</td>\n",
       "    </tr>\n",
       "    <tr>\n",
       "      <th>CelestialBody</th>\n",
       "      <td>23</td>\n",
       "      <td>25</td>\n",
       "    </tr>\n",
       "    <tr>\n",
       "      <th>City</th>\n",
       "      <td>18</td>\n",
       "      <td>23</td>\n",
       "    </tr>\n",
       "    <tr>\n",
       "      <th>ComicsCharacter</th>\n",
       "      <td>16</td>\n",
       "      <td>19</td>\n",
       "    </tr>\n",
       "    <tr>\n",
       "      <th>Food</th>\n",
       "      <td>22</td>\n",
       "      <td>34</td>\n",
       "    </tr>\n",
       "    <tr>\n",
       "      <th>MeanOfTransportation</th>\n",
       "      <td>62</td>\n",
       "      <td>75</td>\n",
       "    </tr>\n",
       "    <tr>\n",
       "      <th>Monument</th>\n",
       "      <td>24</td>\n",
       "      <td>30</td>\n",
       "    </tr>\n",
       "    <tr>\n",
       "      <th>Politician</th>\n",
       "      <td>40</td>\n",
       "      <td>49</td>\n",
       "    </tr>\n",
       "    <tr>\n",
       "      <th>SportsTeam</th>\n",
       "      <td>25</td>\n",
       "      <td>31</td>\n",
       "    </tr>\n",
       "    <tr>\n",
       "      <th>University</th>\n",
       "      <td>35</td>\n",
       "      <td>41</td>\n",
       "    </tr>\n",
       "    <tr>\n",
       "      <th>WrittenWork</th>\n",
       "      <td>36</td>\n",
       "      <td>50</td>\n",
       "    </tr>\n",
       "  </tbody>\n",
       "</table>\n",
       "</div>"
      ],
      "text/plain": [
       "                      test  train_dev\n",
       "category                             \n",
       "Airport                 34         52\n",
       "Artist                  26         37\n",
       "Astronaut               27         38\n",
       "Athlete                 28         42\n",
       "Building                38         46\n",
       "CelestialBody           23         25\n",
       "City                    18         23\n",
       "ComicsCharacter         16         19\n",
       "Food                    22         34\n",
       "MeanOfTransportation    62         75\n",
       "Monument                24         30\n",
       "Politician              40         49\n",
       "SportsTeam              25         31\n",
       "University              35         41\n",
       "WrittenWork             36         50"
      ]
     },
     "execution_count": 33,
     "metadata": {},
     "output_type": "execute_result"
    }
   ],
   "source": [
    "# number of unique properties\n",
    "\n",
    "pd.concat({\n",
    "    'train_dev': train_dev.as_pandas.mdf.groupby('category').predicate.nunique(),\n",
    "    'test': test.as_pandas.mdf.groupby('category').predicate.nunique()\n",
    "}, axis=1, sort=True, copy=False).fillna(0)"
   ]
  },
  {
   "cell_type": "code",
   "execution_count": 34,
   "metadata": {},
   "outputs": [
    {
     "data": {
      "text/html": [
       "<div>\n",
       "<style scoped>\n",
       "    .dataframe tbody tr th:only-of-type {\n",
       "        vertical-align: middle;\n",
       "    }\n",
       "\n",
       "    .dataframe tbody tr th {\n",
       "        vertical-align: top;\n",
       "    }\n",
       "\n",
       "    .dataframe thead th {\n",
       "        text-align: right;\n",
       "    }\n",
       "</style>\n",
       "<table border=\"1\" class=\"dataframe\">\n",
       "  <thead>\n",
       "    <tr style=\"text-align: right;\">\n",
       "      <th></th>\n",
       "      <th>test</th>\n",
       "      <th>train_dev</th>\n",
       "    </tr>\n",
       "    <tr>\n",
       "      <th>category</th>\n",
       "      <th></th>\n",
       "      <th></th>\n",
       "    </tr>\n",
       "  </thead>\n",
       "  <tbody>\n",
       "    <tr>\n",
       "      <th>Airport</th>\n",
       "      <td>54</td>\n",
       "      <td>69</td>\n",
       "    </tr>\n",
       "    <tr>\n",
       "      <th>Artist</th>\n",
       "      <td>47</td>\n",
       "      <td>58</td>\n",
       "    </tr>\n",
       "    <tr>\n",
       "      <th>Astronaut</th>\n",
       "      <td>16</td>\n",
       "      <td>18</td>\n",
       "    </tr>\n",
       "    <tr>\n",
       "      <th>Athlete</th>\n",
       "      <td>57</td>\n",
       "      <td>89</td>\n",
       "    </tr>\n",
       "    <tr>\n",
       "      <th>Building</th>\n",
       "      <td>53</td>\n",
       "      <td>59</td>\n",
       "    </tr>\n",
       "    <tr>\n",
       "      <th>CelestialBody</th>\n",
       "      <td>20</td>\n",
       "      <td>23</td>\n",
       "    </tr>\n",
       "    <tr>\n",
       "      <th>City</th>\n",
       "      <td>46</td>\n",
       "      <td>66</td>\n",
       "    </tr>\n",
       "    <tr>\n",
       "      <th>ComicsCharacter</th>\n",
       "      <td>21</td>\n",
       "      <td>44</td>\n",
       "    </tr>\n",
       "    <tr>\n",
       "      <th>Food</th>\n",
       "      <td>51</td>\n",
       "      <td>60</td>\n",
       "    </tr>\n",
       "    <tr>\n",
       "      <th>MeanOfTransportation</th>\n",
       "      <td>48</td>\n",
       "      <td>71</td>\n",
       "    </tr>\n",
       "    <tr>\n",
       "      <th>Monument</th>\n",
       "      <td>8</td>\n",
       "      <td>10</td>\n",
       "    </tr>\n",
       "    <tr>\n",
       "      <th>Politician</th>\n",
       "      <td>56</td>\n",
       "      <td>74</td>\n",
       "    </tr>\n",
       "    <tr>\n",
       "      <th>SportsTeam</th>\n",
       "      <td>47</td>\n",
       "      <td>56</td>\n",
       "    </tr>\n",
       "    <tr>\n",
       "      <th>University</th>\n",
       "      <td>18</td>\n",
       "      <td>19</td>\n",
       "    </tr>\n",
       "    <tr>\n",
       "      <th>WrittenWork</th>\n",
       "      <td>43</td>\n",
       "      <td>55</td>\n",
       "    </tr>\n",
       "  </tbody>\n",
       "</table>\n",
       "</div>"
      ],
      "text/plain": [
       "                      test  train_dev\n",
       "category                             \n",
       "Airport                 54         69\n",
       "Artist                  47         58\n",
       "Astronaut               16         18\n",
       "Athlete                 57         89\n",
       "Building                53         59\n",
       "CelestialBody           20         23\n",
       "City                    46         66\n",
       "ComicsCharacter         21         44\n",
       "Food                    51         60\n",
       "MeanOfTransportation    48         71\n",
       "Monument                 8         10\n",
       "Politician              56         74\n",
       "SportsTeam              47         56\n",
       "University              18         19\n",
       "WrittenWork             43         55"
      ]
     },
     "execution_count": 34,
     "metadata": {},
     "output_type": "execute_result"
    }
   ],
   "source": [
    "# number of unique subjects\n",
    "\n",
    "pd.concat({\n",
    "    'train_dev': train_dev.as_pandas.mdf.groupby('category').subject.nunique(),\n",
    "    'test': test.as_pandas.mdf.groupby('category').subject.nunique()\n",
    "}, axis=1, sort=True, copy=False).fillna(0)"
   ]
  },
  {
   "cell_type": "code",
   "execution_count": 35,
   "metadata": {},
   "outputs": [
    {
     "data": {
      "text/html": [
       "<div>\n",
       "<style scoped>\n",
       "    .dataframe tbody tr th:only-of-type {\n",
       "        vertical-align: middle;\n",
       "    }\n",
       "\n",
       "    .dataframe tbody tr th {\n",
       "        vertical-align: top;\n",
       "    }\n",
       "\n",
       "    .dataframe thead th {\n",
       "        text-align: right;\n",
       "    }\n",
       "</style>\n",
       "<table border=\"1\" class=\"dataframe\">\n",
       "  <thead>\n",
       "    <tr style=\"text-align: right;\">\n",
       "      <th></th>\n",
       "      <th>test</th>\n",
       "      <th>train_dev</th>\n",
       "    </tr>\n",
       "    <tr>\n",
       "      <th>category</th>\n",
       "      <th></th>\n",
       "      <th></th>\n",
       "    </tr>\n",
       "  </thead>\n",
       "  <tbody>\n",
       "    <tr>\n",
       "      <th>Airport</th>\n",
       "      <td>178</td>\n",
       "      <td>305</td>\n",
       "    </tr>\n",
       "    <tr>\n",
       "      <th>Artist</th>\n",
       "      <td>165</td>\n",
       "      <td>255</td>\n",
       "    </tr>\n",
       "    <tr>\n",
       "      <th>Astronaut</th>\n",
       "      <td>56</td>\n",
       "      <td>71</td>\n",
       "    </tr>\n",
       "    <tr>\n",
       "      <th>Athlete</th>\n",
       "      <td>164</td>\n",
       "      <td>305</td>\n",
       "    </tr>\n",
       "    <tr>\n",
       "      <th>Building</th>\n",
       "      <td>172</td>\n",
       "      <td>258</td>\n",
       "    </tr>\n",
       "    <tr>\n",
       "      <th>CelestialBody</th>\n",
       "      <td>94</td>\n",
       "      <td>193</td>\n",
       "    </tr>\n",
       "    <tr>\n",
       "      <th>City</th>\n",
       "      <td>112</td>\n",
       "      <td>206</td>\n",
       "    </tr>\n",
       "    <tr>\n",
       "      <th>ComicsCharacter</th>\n",
       "      <td>44</td>\n",
       "      <td>97</td>\n",
       "    </tr>\n",
       "    <tr>\n",
       "      <th>Food</th>\n",
       "      <td>187</td>\n",
       "      <td>276</td>\n",
       "    </tr>\n",
       "    <tr>\n",
       "      <th>MeanOfTransportation</th>\n",
       "      <td>172</td>\n",
       "      <td>304</td>\n",
       "    </tr>\n",
       "    <tr>\n",
       "      <th>Monument</th>\n",
       "      <td>34</td>\n",
       "      <td>42</td>\n",
       "    </tr>\n",
       "    <tr>\n",
       "      <th>Politician</th>\n",
       "      <td>186</td>\n",
       "      <td>312</td>\n",
       "    </tr>\n",
       "    <tr>\n",
       "      <th>SportsTeam</th>\n",
       "      <td>136</td>\n",
       "      <td>256</td>\n",
       "    </tr>\n",
       "    <tr>\n",
       "      <th>University</th>\n",
       "      <td>59</td>\n",
       "      <td>70</td>\n",
       "    </tr>\n",
       "    <tr>\n",
       "      <th>WrittenWork</th>\n",
       "      <td>124</td>\n",
       "      <td>210</td>\n",
       "    </tr>\n",
       "  </tbody>\n",
       "</table>\n",
       "</div>"
      ],
      "text/plain": [
       "                      test  train_dev\n",
       "category                             \n",
       "Airport                178        305\n",
       "Artist                 165        255\n",
       "Astronaut               56         71\n",
       "Athlete                164        305\n",
       "Building               172        258\n",
       "CelestialBody           94        193\n",
       "City                   112        206\n",
       "ComicsCharacter         44         97\n",
       "Food                   187        276\n",
       "MeanOfTransportation   172        304\n",
       "Monument                34         42\n",
       "Politician             186        312\n",
       "SportsTeam             136        256\n",
       "University              59         70\n",
       "WrittenWork            124        210"
      ]
     },
     "execution_count": 35,
     "metadata": {},
     "output_type": "execute_result"
    }
   ],
   "source": [
    "# number of unique subjects\n",
    "\n",
    "pd.concat({\n",
    "    'train_dev': train_dev.as_pandas.mdf.groupby('category').object.nunique(),\n",
    "    'test': test.as_pandas.mdf.groupby('category').object.nunique()\n",
    "}, axis=1, sort=True, copy=False).fillna(0)"
   ]
  },
  {
   "cell_type": "markdown",
   "metadata": {},
   "source": [
    "# TODO\n",
    "\n",
    " 6. which dbpedia entities are described and their count per category (info from here) - by 'described' do you mean it appearing as a subject in one triple? So 'Brazil' is being described in <Brazil, is, country>, but not in <Abelardo, lives_in, Brazil>?\n",
    "Those entities are not only subjects, but more importantly roots of the trees in WebNLG.\n",
    "\n",
    "\n",
    "Then explain and show that each input is a tree.\n",
    "            1. n of tree types (sibling, mixed, chain), examples - is this the attribute shape_type added to the v2 release, right?\n",
    "Yes, it is that attribute. Please use the final release for your statistics. Then you can make another notebook for the challenge data.\n",
    "\n",
    "\n",
    "            2. n of tree shapes -  and this the attribute shape?\n",
    "yes, in the v2 release.\n",
    "\n",
    "\n",
    "\n",
    "Vocabulary\n",
    "            1. n of tokens\n",
    "\n",
    "            2. n of types\n",
    "\n",
    "            3. distribution of 1. and 2. per size."
   ]
  },
  {
   "cell_type": "code",
   "execution_count": null,
   "metadata": {},
   "outputs": [],
   "source": [
    "# todo: explain hierarchical structure"
   ]
  }
 ],
 "metadata": {
  "kernelspec": {
   "display_name": "Python 3",
   "language": "python",
   "name": "python3"
  },
  "language_info": {
   "codemirror_mode": {
    "name": "ipython",
    "version": 3
   },
   "file_extension": ".py",
   "mimetype": "text/x-python",
   "name": "python",
   "nbconvert_exporter": "python",
   "pygments_lexer": "ipython3",
   "version": "3.6.8"
  }
 },
 "nbformat": 4,
 "nbformat_minor": 2
}
